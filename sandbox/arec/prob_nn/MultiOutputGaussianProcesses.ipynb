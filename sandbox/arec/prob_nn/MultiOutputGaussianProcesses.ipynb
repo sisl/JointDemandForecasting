{
 "cells": [
  {
   "cell_type": "code",
   "execution_count": 1,
   "metadata": {},
   "outputs": [],
   "source": [
    "import os\n",
    "import sys\n",
    "import numpy as np\n",
    "import sklearn as skl\n",
    "import time\n",
    "import math\n",
    "import torch\n",
    "import gpytorch\n",
    "from matplotlib import pyplot as plt\n",
    "\n",
    "import torch.nn as nn\n",
    "\n",
    "sys.path.append(\"../../../\")\n",
    "import CalibratedTimeseriesModels\n",
    "from CalibratedTimeseriesModels.utils import *\n",
    "\n",
    "\n",
    "%matplotlib inline\n",
    "%load_ext autoreload\n",
    "%autoreload 2"
   ]
  },
  {
   "cell_type": "code",
   "execution_count": 2,
   "metadata": {},
   "outputs": [],
   "source": [
    "# load data\n",
    "X_orig = torch.load(\"../../../datasets/processed/openEI/X_openei_011_subset_multitask.pt\")\n",
    "Y_orig = torch.load(\"../../../datasets/processed/openEI/Y_openei_011_subset_multitask.pt\")\n",
    "\n",
    "past_dims = 24\n",
    "fut_dims = 12\n",
    "\n",
    "X_train_orig, X_test_orig, Y_train_orig, Y_test_orig = electric_train_test_split(X_orig, Y_orig, disp_idx=past_dims+fut_dims)"
   ]
  },
  {
   "cell_type": "code",
   "execution_count": 3,
   "metadata": {},
   "outputs": [],
   "source": [
    "train_idxs = [*range(past_dims)] #,*range(-6,0,1)]\n",
    "\n",
    "X_train = X_train_orig[1,:,train_idxs].reshape((-1,len(train_idxs))).unsqueeze(-1).float()\n",
    "Y_train = Y_train_orig[1,:,:fut_dims].reshape((-1,fut_dims)).unsqueeze(-1).float()\n",
    "X_test = X_test_orig[1,:,train_idxs].reshape((-1,len(train_idxs))).unsqueeze(-1).float()\n",
    "Y_test = Y_test_orig[1,:,:fut_dims].reshape((-1,fut_dims)).unsqueeze(-1).float()"
   ]
  },
  {
   "cell_type": "code",
   "execution_count": 4,
   "metadata": {},
   "outputs": [],
   "source": [
    "class MultitaskGPModel(gpytorch.models.ExactGP):\n",
    "    def __init__(self, train_x, train_y, likelihood, covar_kernel=gpytorch.kernels.RBFKernel(), index_rank=2):\n",
    "        B, num_tasks = train_y.shape\n",
    "        self.num_tasks = num_tasks\n",
    "        self.index_rank = index_rank\n",
    "        super(MultitaskGPModel, self).__init__(train_x, train_y, likelihood)\n",
    "        self.mean_module = gpytorch.means.MultitaskMean(\n",
    "            gpytorch.means.ConstantMean(), num_tasks=self.num_tasks\n",
    "        )\n",
    "        self.covar_module = gpytorch.kernels.MultitaskKernel(\n",
    "            covar_kernel, num_tasks=self.num_tasks, rank=self.index_rank\n",
    "        )\n",
    "\n",
    "    def forward(self, x):\n",
    "        mean_x = self.mean_module(x)\n",
    "        covar_x = self.covar_module(x)\n",
    "        return gpytorch.distributions.MultitaskMultivariateNormal(mean_x, covar_x)"
   ]
  },
  {
   "cell_type": "code",
   "execution_count": 76,
   "metadata": {},
   "outputs": [],
   "source": [
    "torch.cuda.empty_cache()\n",
    "train_x, train_y = X_train.reshape(X_train.size(0),-1).cuda(), Y_train.reshape(Y_train.size(0),-1).cuda()\n",
    "\n",
    "covar_kernel = gpytorch.kernels.RBFKernel(ard_num_dims=24)\n",
    "index_rank = 12 \n",
    "likelihood = gpytorch.likelihoods.MultitaskGaussianLikelihood(num_tasks=12).cuda()\n",
    "model = MultitaskGPModel(train_x, train_y, likelihood, covar_kernel=covar_kernel, index_rank=index_rank).cuda()"
   ]
  },
  {
   "cell_type": "code",
   "execution_count": 77,
   "metadata": {},
   "outputs": [
    {
     "name": "stdout",
     "output_type": "stream",
     "text": [
      "Iter 1/75 - Mean Loss: 1.459\n",
      "Iter 11/75 - Mean Loss: 1.140\n",
      "Iter 21/75 - Mean Loss: 0.842\n",
      "Iter 31/75 - Mean Loss: 0.570\n",
      "Iter 41/75 - Mean Loss: 0.307\n",
      "Iter 51/75 - Mean Loss: 0.053\n",
      "Iter 61/75 - Mean Loss: -0.172\n",
      "Iter 71/75 - Mean Loss: -0.306\n"
     ]
    }
   ],
   "source": [
    "training_iter = 75\n",
    "\n",
    "# Find optimal model hyperparameters\n",
    "model.train()\n",
    "likelihood.train()\n",
    "\n",
    "# Use the adam optimizer\n",
    "optimizer = torch.optim.Adam([\n",
    "    {'params': model.parameters()},  # Includes GaussianLikelihood parameters\n",
    "], lr=0.05)\n",
    "\n",
    "# \"Loss\" for GPs - the marginal log likelihood\n",
    "mll = gpytorch.mlls.ExactMarginalLogLikelihood(likelihood, model)\n",
    "\n",
    "for i in range(training_iter):\n",
    "    optimizer.zero_grad()\n",
    "    output = model(train_x)\n",
    "    loss = -mll(output, train_y)\n",
    "    loss.backward()\n",
    "    if i%10==0:\n",
    "        print('Iter %d/%d - Mean Loss: %.3f' % (i + 1, training_iter, loss.item()/train_x.size(0)))\n",
    "    optimizer.step()"
   ]
  },
  {
   "cell_type": "code",
   "execution_count": 78,
   "metadata": {},
   "outputs": [],
   "source": [
    "model.eval()\n",
    "likelihood.eval()\n",
    "test_x = X_test.reshape(X_test.size(0),-1)\n",
    "with torch.no_grad(), gpytorch.settings.fast_pred_var():\n",
    "    test_x = test_x.cuda()\n",
    "    dist = model(test_x)\n",
    "    predictions = likelihood(dist)\n",
    "    mean = predictions.mean\n",
    "    lower, upper = predictions.confidence_region()"
   ]
  },
  {
   "cell_type": "code",
   "execution_count": 80,
   "metadata": {},
   "outputs": [
    {
     "name": "stdout",
     "output_type": "stream",
     "text": [
      "(tensor(0.0796, device='cuda:0'), tensor([0.0353, 0.0468, 0.0584, 0.0732, 0.0846, 0.0842, 0.0855, 0.0924, 0.0932,\n",
      "        0.0966, 0.1012, 0.1040], device='cuda:0'), tensor([0.0420, 0.0561, 0.0718, 0.0898, 0.1056, 0.1029, 0.1064, 0.1161, 0.1168,\n",
      "        0.1177, 0.1211, 0.1217], device='cuda:0'))\n",
      "(tensor(0.2162, device='cuda:0'), tensor([0.1587, 0.1644, 0.1770, 0.2007, 0.2160, 0.2009, 0.2037, 0.2333, 0.2613,\n",
      "        0.2381, 0.2650, 0.2747], device='cuda:0'), tensor([0.0762, 0.0831, 0.0938, 0.1096, 0.1243, 0.1165, 0.1162, 0.1352, 0.1407,\n",
      "        0.1392, 0.1546, 0.1561], device='cuda:0'))\n",
      "(tensor(0.1715, device='cuda:0'), tensor([0.0037, 0.0065, 0.0108, 0.0190, 0.0282, 0.0297, 0.0326, 0.0416, 0.0429,\n",
      "        0.0442, 0.0475, 0.0462], device='cuda:0'), tensor([0.0112, 0.0196, 0.0348, 0.0674, 0.1023, 0.1115, 0.1212, 0.1527, 0.1516,\n",
      "        0.1512, 0.1556, 0.1397], device='cuda:0'))\n",
      "(tensor(0.3216, device='cuda:0'), tensor([0.0432, 0.0482, 0.0594, 0.0819, 0.1021, 0.0922, 0.0920, 0.1261, 0.1435,\n",
      "        0.1312, 0.1591, 0.1621], device='cuda:0'), tensor([0.0318, 0.0430, 0.0671, 0.1236, 0.1855, 0.1768, 0.1778, 0.2471, 0.2434,\n",
      "        0.2472, 0.2788, 0.2614], device='cuda:0'))\n"
     ]
    }
   ],
   "source": [
    "for f in [mape, wape, rmse, rwse]:\n",
    "    print(f(dist,Y_test.cuda()))"
   ]
  },
  {
   "cell_type": "code",
   "execution_count": 81,
   "metadata": {},
   "outputs": [
    {
     "data": {
      "image/png": "[encoded data removed]",
      "text/plain": [
       "<Figure size 432x288 with 1 Axes>"
      ]
     },
     "metadata": {
      "needs_background": "light"
     },
     "output_type": "display_data"
    }
   ],
   "source": [
    "plt.plot(range(24),X_test[0,:,0])\n",
    "plt.plot(range(24,36), samples[:5,0,:].T)\n",
    "plt.plot(range(24,36),Y_test[0,:]) #orange\n",
    "plt.plot(range(24,36),mean[0,:].cpu())\n",
    "plt.fill_between(range(24,36), lower[0,:].cpu(), upper[0,:].cpu(), alpha=0.5)\n",
    "plt.show()"
   ]
  },
  {
   "cell_type": "code",
   "execution_count": 91,
   "metadata": {},
   "outputs": [
    {
     "data": {
      "image/png": "[encoded data removed]",
      "text/plain": [
       "<Figure size 432x288 with 1 Axes>"
      ]
     },
     "metadata": {
      "needs_background": "light"
     },
     "output_type": "display_data"
    }
   ],
   "source": [
    "with torch.no_grad():\n",
    "    K = model.covar_module.task_covar_module._eval_covar_matrix()\n",
    "    plt.imshow(K.cpu().numpy())"
   ]
  },
  {
   "cell_type": "code",
   "execution_count": null,
   "metadata": {},
   "outputs": [],
   "source": []
  },
  {
   "cell_type": "code",
   "execution_count": null,
   "metadata": {},
   "outputs": [],
   "source": []
  },
  {
   "cell_type": "code",
   "execution_count": null,
   "metadata": {},
   "outputs": [],
   "source": []
  },
  {
   "cell_type": "code",
   "execution_count": 8,
   "metadata": {},
   "outputs": [
    {
     "name": "stderr",
     "output_type": "stream",
     "text": [
      "/home/arec/miniconda3/envs/ctm/lib/python3.7/site-packages/gpytorch/kernels/spectral_mixture_kernel.py:206: UserWarning: This overload of nonzero is deprecated:\n",
      "\tnonzero()\n",
      "Consider using one of the following signatures instead:\n",
      "\tnonzero(*, bool as_tuple) (Triggered internally at  /opt/conda/conda-bld/pytorch_1595629403081/work/torch/csrc/utils/python_arg_parser.cpp:766.)\n",
      "  min_dist[:, ind] = min_dist_sort[((min_dist_sort[:, ind]).nonzero())[0], ind]\n"
     ]
    }
   ],
   "source": [
    "train_x = torch.linspace(0, 1, 15)\n",
    "train_y = torch.sin(train_x * (2 * math.pi))\n",
    "\n",
    "class SpectralMixtureGPModel(gpytorch.models.ExactGP):\n",
    "    def __init__(self, train_x, train_y, likelihood):\n",
    "        super(SpectralMixtureGPModel, self).__init__(train_x, train_y, likelihood)\n",
    "        self.mean_module = gpytorch.means.ConstantMean()\n",
    "        self.covar_module = gpytorch.kernels.SpectralMixtureKernel(num_mixtures=4)\n",
    "        self.covar_module.initialize_from_data(train_x, train_y)\n",
    "\n",
    "    def forward(self,x):\n",
    "        mean_x = self.mean_module(x)\n",
    "        covar_x = self.covar_module(x)\n",
    "        return gpytorch.distributions.MultivariateNormal(mean_x, covar_x)\n",
    "\n",
    "\n",
    "likelihood = gpytorch.likelihoods.GaussianLikelihood()\n",
    "model = SpectralMixtureGPModel(train_x, train_y, likelihood)"
   ]
  }
 ],
 "metadata": {
  "kernelspec": {
   "display_name": "Python 3",
   "language": "python",
   "name": "python3"
  },
  "language_info": {
   "codemirror_mode": {
    "name": "ipython",
    "version": 3
   },
   "file_extension": ".py",
   "mimetype": "text/x-python",
   "name": "python",
   "nbconvert_exporter": "python",
   "pygments_lexer": "ipython3",
   "version": "3.7.0"
  }
 },
 "nbformat": 4,
 "nbformat_minor": 4
}
