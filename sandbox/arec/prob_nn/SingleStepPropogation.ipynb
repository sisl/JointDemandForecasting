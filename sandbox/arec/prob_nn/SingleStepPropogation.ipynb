{
 "cells": [
  {
   "cell_type": "code",
   "execution_count": 98,
   "metadata": {},
   "outputs": [
    {
     "name": "stdout",
     "output_type": "stream",
     "text": [
      "The autoreload extension is already loaded. To reload it, use:\n",
      "  %reload_ext autoreload\n"
     ]
    }
   ],
   "source": [
    "import os\n",
    "import sys\n",
    "import numpy as np\n",
    "import sklearn as skl\n",
    "import time\n",
    "import torch\n",
    "import matplotlib.pyplot as plt\n",
    "import torch.nn as nn\n",
    "from sklearn.model_selection import train_test_split\n",
    "\n",
    "sys.path.append(\"../../../\")\n",
    "import CalibratedTimeseriesModels\n",
    "\n",
    "from CalibratedTimeseriesModels.utils import *\n",
    "from CalibratedTimeseriesModels.models.gnn import *\n",
    "from CalibratedTimeseriesModels.models.gmnn import *\n",
    "from CalibratedTimeseriesModels.models.blr import *\n",
    "from CalibratedTimeseriesModels.evaluators import ExplicitEvaluator\n",
    "\n",
    "%load_ext autoreload\n",
    "%autoreload 2"
   ]
  },
  {
   "cell_type": "code",
   "execution_count": 99,
   "metadata": {},
   "outputs": [],
   "source": [
    "# load data\n",
    "X_orig = torch.load(\"../../../datasets/processed/openEI/X_openei_011_subset_multitask.pt\")\n",
    "Y_orig = torch.load(\"../../../datasets/processed/openEI/Y_openei_011_subset_multitask.pt\")\n",
    "\n",
    "past_dims = 24\n",
    "fut_dims = 12\n",
    "\n",
    "X_train_orig, X_test_orig, Y_train_orig, Y_test_orig = electric_train_test_split(X_orig, Y_orig, \n",
    "                                                                                 disp_idx=past_dims+fut_dims)"
   ]
  },
  {
   "cell_type": "code",
   "execution_count": 100,
   "metadata": {},
   "outputs": [],
   "source": [
    "X_train = X_train_orig[1,:,:past_dims].reshape((-1,past_dims)).unsqueeze(-1).float()\n",
    "Y_train_full = Y_train_orig[1,:,:fut_dims].reshape((-1,fut_dims)).unsqueeze(-1).float()\n",
    "X_test = X_test_orig[1,:,:past_dims].reshape((-1,past_dims)).unsqueeze(-1).float()\n",
    "Y_test_full = Y_test_orig[1,:,:fut_dims].reshape((-1,fut_dims)).unsqueeze(-1).float()\n",
    "\n",
    "Y_train = Y_train_full[:,[0],:]\n",
    "Y_test = Y_test_full[:,[0],:]\n",
    "\n",
    "X_batches, Y_batches = batch(X_train, Y_train, batch_size = 128)"
   ]
  },
  {
   "cell_type": "markdown",
   "metadata": {},
   "source": [
    "### Single Step LR"
   ]
  },
  {
   "cell_type": "code",
   "execution_count": 101,
   "metadata": {},
   "outputs": [
    {
     "name": "stdout",
     "output_type": "stream",
     "text": [
      "(tensor(0.0498), tensor([0.0498]), tensor([0.0485]))\n",
      "(tensor(0.0755), tensor([0.0755]), tensor([0.0437]))\n",
      "(tensor(0.0740), tensor([0.0055]), tensor([0.0109]))\n",
      "(tensor(0.0968), tensor([0.0094]), tensor([0.0108]))\n",
      "(tensor(-1.1517), tensor([-1.8114, -1.8524, -1.6308,  ..., -1.3601, -0.6647, -1.0643]))\n"
     ]
    }
   ],
   "source": [
    "lin_reg = BayesianLinearRegression(1, past_dims, 1, 1)\n",
    "lin_reg.fit(X_train, Y_train)\n",
    "dtest0 = lin_reg(X_test)\n",
    "for f in [mape, wape, rmse, rwse, nll]:\n",
    "    print(f(dtest0,Y_test))"
   ]
  },
  {
   "cell_type": "markdown",
   "metadata": {},
   "source": [
    "### Single Step GNN"
   ]
  },
  {
   "cell_type": "code",
   "execution_count": 41,
   "metadata": {},
   "outputs": [
    {
     "name": "stdout",
     "output_type": "stream",
     "text": [
      "epoch : 1, loss: 0.4372\n",
      "epoch : 11, loss: -1.3281\n",
      "epoch : 21, loss: -1.3911\n",
      "epoch : 31, loss: -1.4123\n",
      "epoch : 41, loss: -1.5076\n",
      "epoch : 51, loss: -1.4680\n",
      "epoch : 61, loss: -1.7906\n",
      "epoch : 71, loss: -1.6621\n",
      "epoch : 81, loss: -1.7677\n",
      "epoch : 91, loss: -1.9560\n",
      "epoch : 101, loss: -1.8870\n",
      "epoch : 111, loss: -1.7548\n",
      "epoch : 121, loss: -2.0011\n",
      "epoch : 131, loss: -1.9669\n",
      "epoch : 141, loss: -1.8842\n",
      "Learning finished!\n",
      "(tensor(0.0338, grad_fn=<MeanBackward0>), tensor([0.0338], grad_fn=<MeanBackward1>), tensor([0.0385], grad_fn=<StdBackward1>))\n",
      "(tensor(0.0452), tensor([0.0452]), tensor([0.0348]))\n",
      "(tensor(0.0573, grad_fn=<PowBackward0>), tensor([0.0033], grad_fn=<MeanBackward1>), tensor([0.0082], grad_fn=<StdBackward1>))\n",
      "(tensor(0.0754), tensor([0.0057]), tensor([0.0096]))\n",
      "(tensor(-1.6022, grad_fn=<MeanBackward0>), tensor([-3.1669, -3.1733, -2.9779,  ..., -0.1438, -0.7907, -1.7754],\n",
      "       grad_fn=<SumBackward1>))\n"
     ]
    }
   ],
   "source": [
    "hidden_layers = [40, 40, 40]\n",
    "ss_gnn = GaussianNeuralNet(1, past_dims, hidden_layers, 1, 1)\n",
    "train(ss_gnn, X_batches, Y_batches, num_epochs=150, learning_rate=.005)\n",
    "dtest_gnn = ss_gnn(X_test)\n",
    "for f in [mape, wape, rmse, rwse, nll]:\n",
    "    print(f(dtest_gnn,Y_test))"
   ]
  },
  {
   "cell_type": "markdown",
   "metadata": {},
   "source": [
    "### Single Step GMNN"
   ]
  },
  {
   "cell_type": "code",
   "execution_count": 42,
   "metadata": {},
   "outputs": [
    {
     "name": "stdout",
     "output_type": "stream",
     "text": [
      "epoch : 1, loss: 0.7016\n",
      "epoch : 11, loss: -1.2484\n",
      "epoch : 21, loss: -1.4711\n",
      "epoch : 31, loss: -1.6136\n",
      "epoch : 41, loss: -1.6917\n",
      "epoch : 51, loss: -1.6859\n",
      "epoch : 61, loss: -1.7611\n",
      "epoch : 71, loss: -1.9041\n",
      "epoch : 81, loss: -1.8746\n",
      "epoch : 91, loss: -1.9587\n",
      "epoch : 101, loss: -1.8054\n",
      "epoch : 111, loss: -1.9890\n",
      "epoch : 121, loss: -1.8087\n",
      "epoch : 131, loss: -1.6759\n",
      "epoch : 141, loss: -2.0839\n",
      "Learning finished!\n",
      "(tensor(0.0343, grad_fn=<MeanBackward0>), tensor([0.0343], grad_fn=<MeanBackward1>), tensor([0.0377], grad_fn=<StdBackward1>))\n",
      "(tensor(0.0547), tensor([0.0547]), tensor([0.0334]))\n",
      "(tensor(0.0575, grad_fn=<PowBackward0>), tensor([0.0033], grad_fn=<MeanBackward1>), tensor([0.0068], grad_fn=<StdBackward1>))\n",
      "(tensor(0.0877), tensor([0.0077]), tensor([0.0088]))\n",
      "(tensor(-1.6733, grad_fn=<MeanBackward0>), tensor([-2.7498, -2.8066, -2.7430,  ..., -1.3938, -2.2997, -2.0622],\n",
      "       grad_fn=<NegBackward>))\n"
     ]
    }
   ],
   "source": [
    "hidden_layers = [40, 40, 40]\n",
    "ss_gmnn = GaussianMixtureNeuralNet(1, past_dims, hidden_layers, 1, 1, n_components=3)\n",
    "train(ss_gmnn, X_batches, Y_batches, num_epochs=150, learning_rate=.005)\n",
    "dtest_gmnn = ss_gmnn(X_test)\n",
    "for f in [mape, wape, rmse, rwse, nll]:\n",
    "    print(f(dtest_gmnn,Y_test))"
   ]
  },
  {
   "cell_type": "markdown",
   "metadata": {},
   "source": [
    "### Single Step GLSTM"
   ]
  },
  {
   "cell_type": "code",
   "execution_count": 102,
   "metadata": {},
   "outputs": [
    {
     "name": "stdout",
     "output_type": "stream",
     "text": [
      "epoch : 1, loss: 0.9094\n",
      "epoch : 11, loss: -1.2308\n",
      "epoch : 21, loss: -1.8605\n",
      "epoch : 31, loss: -1.9751\n",
      "epoch : 41, loss: -2.0492\n",
      "epoch : 51, loss: -2.1972\n",
      "epoch : 61, loss: -2.3357\n",
      "epoch : 71, loss: -1.7716\n",
      "epoch : 81, loss: -2.3146\n",
      "epoch : 91, loss: -1.4567\n",
      "epoch : 101, loss: -2.4098\n",
      "epoch : 111, loss: -2.4561\n",
      "Learning finished!\n",
      "(tensor(0.0278, grad_fn=<MeanBackward0>), tensor([0.0278], grad_fn=<MeanBackward1>), tensor([0.0333], grad_fn=<StdBackward1>))\n",
      "(tensor(0.0363), tensor([0.0363]), tensor([0.0331]))\n",
      "(tensor(0.0484, grad_fn=<PowBackward0>), tensor([0.0023], grad_fn=<MeanBackward1>), tensor([0.0062], grad_fn=<StdBackward1>))\n",
      "(tensor(0.0605), tensor([0.0037]), tensor([0.0069]))\n",
      "(tensor(-1.6528, grad_fn=<MeanBackward0>), tensor([-3.3330, -2.6455, -3.3004,  ..., -2.3137, -2.3876, -1.9047],\n",
      "       grad_fn=<NegBackward>))\n"
     ]
    }
   ],
   "source": [
    "hidden_layers = [20, 20, 20]\n",
    "hidden_dim = 40\n",
    "ss_glstm = GaussianLSTM(1, hidden_dim, hidden_layers, 1, 1)\n",
    "train(ss_glstm, X_batches, Y_batches, num_epochs=120, learning_rate=.005)\n",
    "dtest_glstm = ss_glstm(X_test)\n",
    "for f in [mape, wape, rmse, rwse, nll]:\n",
    "    print(f(dtest_glstm,Y_test))"
   ]
  },
  {
   "cell_type": "markdown",
   "metadata": {},
   "source": [
    "### Single Step GMM LSTM"
   ]
  },
  {
   "cell_type": "code",
   "execution_count": 103,
   "metadata": {},
   "outputs": [
    {
     "name": "stdout",
     "output_type": "stream",
     "text": [
      "epoch : 1, loss: 1.0439\n",
      "epoch : 11, loss: -1.4853\n",
      "epoch : 21, loss: -1.8129\n",
      "epoch : 31, loss: -1.9546\n",
      "epoch : 41, loss: -2.1004\n",
      "epoch : 51, loss: -2.1734\n",
      "epoch : 61, loss: -2.2697\n",
      "epoch : 71, loss: -2.1994\n",
      "epoch : 81, loss: -2.2799\n",
      "epoch : 91, loss: -2.3328\n",
      "epoch : 101, loss: -2.4211\n",
      "epoch : 111, loss: -2.4412\n",
      "Learning finished!\n",
      "(tensor(0.0279, grad_fn=<MeanBackward0>), tensor([0.0279], grad_fn=<MeanBackward1>), tensor([0.0376], grad_fn=<StdBackward1>))\n",
      "(tensor(0.0361), tensor([0.0361]), tensor([0.0373]))\n",
      "(tensor(0.0488, grad_fn=<PowBackward0>), tensor([0.0024], grad_fn=<MeanBackward1>), tensor([0.0066], grad_fn=<StdBackward1>))\n",
      "(tensor(0.0614), tensor([0.0038]), tensor([0.0073]))\n",
      "(tensor(-1.9698, grad_fn=<MeanBackward0>), tensor([-3.5485, -3.8902, -3.7465,  ..., -2.3834, -2.8939, -1.6193],\n",
      "       grad_fn=<NegBackward>))\n"
     ]
    }
   ],
   "source": [
    "hidden_layers = [20, 20, 20]\n",
    "hidden_dim = 40\n",
    "ss_gmmlstm = GaussianMixtureLSTM(1, hidden_dim, hidden_layers, 1, 1, n_components=2)\n",
    "train(ss_gmmlstm, X_batches, Y_batches, num_epochs=120, learning_rate=.005)\n",
    "dtest_gmmlstm = ss_gmmlstm(X_test)\n",
    "for f in [mape, wape, rmse, rwse, nll]:\n",
    "    print(f(dtest_gmmlstm,Y_test))"
   ]
  },
  {
   "cell_type": "markdown",
   "metadata": {},
   "source": [
    "### Forward Sampling:"
   ]
  },
  {
   "cell_type": "code",
   "execution_count": 106,
   "metadata": {},
   "outputs": [],
   "source": [
    "def sample_forward_nn(model, y, prediction_horizon, n_samples=1000):\n",
    "    \n",
    "    samples = []\n",
    "    for iS in range(n_samples):\n",
    "        # initial step\n",
    "        new_sample = model(y).sample()\n",
    "        sequence = [new_sample] #(B, 1)\n",
    "        \n",
    "        fut_y = y\n",
    "        for _ in range(1, prediction_horizon):\n",
    "\n",
    "            # append to end of input sequence (OPENEI DATA)\n",
    "            fut_y = torch.cat((fut_y[:,1:,:],sequence[-1].unsqueeze(-1)),1)\n",
    "\n",
    "            # run through model\n",
    "            dist = model(fut_y)\n",
    "\n",
    "            # generate next time series\n",
    "            next_step = dist.sample()\n",
    "            sequence.append(next_step)\n",
    "        samples.append(torch.cat(sequence,1))    \n",
    "    samples = torch.stack(samples,0)\n",
    "    return samples\n"
   ]
  },
  {
   "cell_type": "code",
   "execution_count": 96,
   "metadata": {},
   "outputs": [
    {
     "name": "stdout",
     "output_type": "stream",
     "text": [
      "(tensor(0.5372), tensor([0.0338, 0.1441, 0.2668, 0.3764, 0.4766, 0.5671, 0.6449, 0.7037, 0.7483,\n",
      "        0.7865, 0.8292, 0.8685]), tensor([0.0385, 0.1127, 0.1926, 0.2503, 0.2866, 0.3212, 0.3662, 0.4330, 0.5112,\n",
      "        0.5897, 0.6702, 0.7708]))\n",
      "(tensor(0.5410), tensor([0.0452, 0.1505, 0.2715, 0.3804, 0.4801, 0.5699, 0.6473, 0.7064, 0.7507,\n",
      "        0.7888, 0.8310, 0.8705]), tensor([0.0349, 0.1070, 0.1876, 0.2457, 0.2820, 0.3172, 0.3628, 0.4293, 0.5082,\n",
      "        0.5871, 0.6683, 0.7689]))\n",
      "(tensor(0.8142), tensor([0.0033, 0.0458, 0.1497, 0.2917, 0.4576, 0.6340, 0.8043, 0.9532, 1.0667,\n",
      "        1.1419, 1.1893, 1.2180]), tensor([0.0082, 0.0633, 0.2008, 0.3909, 0.5992, 0.8107, 1.0171, 1.2111, 1.3664,\n",
      "        1.4646, 1.5310, 1.5828]))\n",
      "(tensor(0.8241), tensor([0.0057, 0.0514, 0.1584, 0.3031, 0.4717, 0.6506, 0.8234, 0.9740, 1.0887,\n",
      "        1.1650, 1.2136, 1.2433]), tensor([0.0096, 0.0656, 0.2037, 0.3942, 0.6032, 0.8154, 1.0233, 1.2189, 1.3758,\n",
      "        1.4764, 1.5461, 1.6015]))\n"
     ]
    }
   ],
   "source": [
    "samples_ss_gnn = sample_forward_nn(ss_gnn, X_test, 12)\n",
    "for f in [mape, wape, rmse, rwse]:\n",
    "    print(f(samples_ss_gnn,Y_test,sampled=True))"
   ]
  },
  {
   "cell_type": "code",
   "execution_count": 97,
   "metadata": {},
   "outputs": [
    {
     "name": "stdout",
     "output_type": "stream",
     "text": [
      "(tensor(0.4800), tensor([0.0343, 0.1372, 0.2477, 0.3449, 0.4325, 0.5106, 0.5755, 0.6261, 0.6619,\n",
      "        0.6950, 0.7302, 0.7636]), tensor([0.0378, 0.1000, 0.1728, 0.2241, 0.2545, 0.2789, 0.3097, 0.3529, 0.4122,\n",
      "        0.4658, 0.5203, 0.5966]))\n",
      "(tensor(0.4869), tensor([0.0548, 0.1479, 0.2557, 0.3514, 0.4384, 0.5158, 0.5803, 0.6308, 0.6664,\n",
      "        0.6989, 0.7343, 0.7679]), tensor([0.0336, 0.0916, 0.1651, 0.2176, 0.2478, 0.2724, 0.3036, 0.3471, 0.4071,\n",
      "        0.4616, 0.5161, 0.5926]))\n",
      "(tensor(0.7913), tensor([0.0033, 0.0481, 0.1556, 0.2988, 0.4610, 0.6284, 0.7821, 0.9073, 0.9980,\n",
      "        1.0530, 1.0828, 1.0959]), tensor([0.0068, 0.0782, 0.2460, 0.4628, 0.6918, 0.9236, 1.1391, 1.3178, 1.4486,\n",
      "        1.5161, 1.5328, 1.5214]))\n",
      "(tensor(0.8072), tensor([0.0077, 0.0569, 0.1688, 0.3158, 0.4818, 0.6534, 0.8112, 0.9402, 1.0339,\n",
      "        1.0908, 1.1223, 1.1369]), tensor([0.0088, 0.0812, 0.2499, 0.4670, 0.6966, 0.9293, 1.1456, 1.3256, 1.4584,\n",
      "        1.5279, 1.5469, 1.5389]))\n"
     ]
    }
   ],
   "source": [
    "samples_ss_gmnn = sample_forward_nn(ss_gmnn, X_test, 12)\n",
    "for f in [mape, wape, rmse, rwse]:\n",
    "    print(f(samples_ss_gmnn,Y_test,sampled=True))"
   ]
  },
  {
   "cell_type": "code",
   "execution_count": 111,
   "metadata": {},
   "outputs": [],
   "source": [
    "def sample_forward_lstm(model, y, prediction_horizon, n_samples=1000):\n",
    "    samples = []\n",
    "    for i in range(n_samples):\n",
    "        \n",
    "        ## MUST GO THROUGH LSTM BY HAND FOR HIDDEN STATES\n",
    "        # initial step\n",
    "        h_0, c_0 = model.initialize_lstm(y)    \n",
    "        output_lstm, (h_n, c_n) = model.lstm(y, (h_0, c_0))\n",
    "        dist = model.forward_fc(output_lstm[:,-1,:])\n",
    "        new_sample = dist.sample()\n",
    "        sequence = [new_sample] #(B, 1)   \n",
    "        for _ in range(1, prediction_horizon):\n",
    "\n",
    "            # put last sample through lstm\n",
    "            output_lstm, (h_n, c_n) = model.lstm(sequence[-1].unsqueeze(-1), (h_n, c_n))\n",
    "            \n",
    "            # run through model\n",
    "            dist = model.forward_fc(output_lstm[:,-1,:])\n",
    "\n",
    "            # generate next time series\n",
    "            next_step = dist.sample()\n",
    "            sequence.append(next_step)\n",
    "            \n",
    "        samples.append(torch.cat(sequence,1)) \n",
    "        \n",
    "    samples = torch.stack(samples,0)\n",
    "    return samples"
   ]
  },
  {
   "cell_type": "code",
   "execution_count": 112,
   "metadata": {},
   "outputs": [
    {
     "name": "stdout",
     "output_type": "stream",
     "text": [
      "(tensor(0.4937), tensor([0.0278, 0.1336, 0.2428, 0.3444, 0.4385, 0.5225, 0.5902, 0.6485, 0.6934,\n",
      "        0.7276, 0.7604, 0.7951]), tensor([0.0333, 0.1042, 0.1717, 0.2232, 0.2546, 0.2749, 0.3114, 0.3551, 0.4186,\n",
      "        0.4941, 0.5708, 0.6568]))\n",
      "(tensor(0.4973), tensor([0.0363, 0.1389, 0.2468, 0.3476, 0.4416, 0.5246, 0.5926, 0.6508, 0.6957,\n",
      "        0.7303, 0.7635, 0.7991]), tensor([0.0331, 0.0999, 0.1675, 0.2194, 0.2502, 0.2715, 0.3076, 0.3514, 0.4154,\n",
      "        0.4906, 0.5673, 0.6527]))\n",
      "(tensor(0.7864), tensor([0.0023, 0.0439, 0.1392, 0.2701, 0.4299, 0.5988, 0.7566, 0.8903, 0.9951,\n",
      "        1.0618, 1.1017, 1.1323]), tensor([0.0062, 0.0762, 0.2376, 0.4478, 0.6728, 0.9008, 1.1196, 1.3009, 1.4359,\n",
      "        1.5233, 1.5674, 1.5800]))\n",
      "(tensor(0.7960), tensor([0.0037, 0.0476, 0.1453, 0.2785, 0.4409, 0.6124, 0.7727, 0.9090, 1.0164,\n",
      "        1.0861, 1.1287, 1.1624]), tensor([0.0069, 0.0770, 0.2390, 0.4496, 0.6751, 0.9032, 1.1220, 1.3037, 1.4395,\n",
      "        1.5281, 1.5736, 1.5876]))\n"
     ]
    }
   ],
   "source": [
    "samples_ss_glstm = sample_forward_lstm(ss_glstm, X_test, 12)\n",
    "for f in [mape, wape, rmse, rwse]:\n",
    "    print(f(samples_ss_glstm,Y_test,sampled=True))"
   ]
  },
  {
   "cell_type": "code",
   "execution_count": 114,
   "metadata": {},
   "outputs": [
    {
     "name": "stdout",
     "output_type": "stream",
     "text": [
      "(tensor(0.5168), tensor([0.0278, 0.1350, 0.2512, 0.3579, 0.4567, 0.5486, 0.6257, 0.6831, 0.7263,\n",
      "        0.7604, 0.7968, 0.8319]), tensor([0.0376, 0.1066, 0.1880, 0.2491, 0.2906, 0.3244, 0.3659, 0.4245, 0.4960,\n",
      "        0.5705, 0.6373, 0.7224]))\n",
      "(tensor(0.5215), tensor([0.0361, 0.1413, 0.2570, 0.3628, 0.4617, 0.5525, 0.6290, 0.6871, 0.7297,\n",
      "        0.7648, 0.8008, 0.8357]), tensor([0.0372, 0.1014, 0.1822, 0.2437, 0.2843, 0.3190, 0.3614, 0.4191, 0.4918,\n",
      "        0.5653, 0.6330, 0.7187]))\n",
      "(tensor(0.7745), tensor([0.0024, 0.0378, 0.1287, 0.2562, 0.4060, 0.5658, 0.7192, 0.8549, 0.9636,\n",
      "        1.0421, 1.0933, 1.1289]), tensor([0.0066, 0.0499, 0.1661, 0.3268, 0.4960, 0.6664, 0.8326, 0.9957, 1.1519,\n",
      "        1.2726, 1.3499, 1.4182]))\n",
      "(tensor(0.7851), tensor([0.0038, 0.0421, 0.1361, 0.2661, 0.4187, 0.5817, 0.7381, 0.8763, 0.9872,\n",
      "        1.0677, 1.1208, 1.1581]), tensor([0.0073, 0.0507, 0.1672, 0.3284, 0.4983, 0.6699, 0.8383, 1.0043, 1.1631,\n",
      "        1.2855, 1.3648, 1.4355]))\n"
     ]
    }
   ],
   "source": [
    "samples_ss_gmmlstm = sample_forward_lstm(ss_gmmlstm, X_test, 12)\n",
    "for f in [mape, wape, rmse, rwse]:\n",
    "    print(f(samples_ss_gmmlstm,Y_test,sampled=True))"
   ]
  },
  {
   "cell_type": "code",
   "execution_count": 126,
   "metadata": {},
   "outputs": [
    {
     "data": {
      "image/png": "[encoded data removed]",
      "text/plain": [
       "<Figure size 432x288 with 1 Axes>"
      ]
     },
     "metadata": {
      "needs_background": "light"
     },
     "output_type": "display_data"
    }
   ],
   "source": [
    "plt.plot(range(24),X_test[0,:,0])\n",
    "plt.plot(range(24,36), samples_ss_gmmlstm[:10,0,:].T)\n",
    "plt.plot(range(24,36),Y_test_full[0,:]) #orange\n",
    "plt.show()"
   ]
  }
 ],
 "metadata": {
  "kernelspec": {
   "display_name": "Python 3",
   "language": "python",
   "name": "python3"
  },
  "language_info": {
   "codemirror_mode": {
    "name": "ipython",
    "version": 3
   },
   "file_extension": ".py",
   "mimetype": "text/x-python",
   "name": "python",
   "nbconvert_exporter": "python",
   "pygments_lexer": "ipython3",
   "version": "3.7.0"
  }
 },
 "nbformat": 4,
 "nbformat_minor": 4
}
