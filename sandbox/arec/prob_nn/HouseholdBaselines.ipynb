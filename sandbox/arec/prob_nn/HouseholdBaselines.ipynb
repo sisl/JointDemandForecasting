{
 "cells": [
  {
   "cell_type": "markdown",
   "metadata": {},
   "source": [
    "### Process Train/Test Split"
   ]
  },
  {
   "cell_type": "code",
   "execution_count": 1,
   "metadata": {},
   "outputs": [],
   "source": [
    "import os\n",
    "import sys\n",
    "import numpy as np\n",
    "import torch\n",
    "import sklearn as skl\n",
    "import matplotlib.pyplot as plt\n",
    "\n",
    "%load_ext autoreload\n",
    "%autoreload 2"
   ]
  },
  {
   "cell_type": "code",
   "execution_count": 2,
   "metadata": {},
   "outputs": [],
   "source": [
    "X_orig = torch.load(\"../../../datasets/processed/HouseholdElectricity/X.pt\")"
   ]
  },
  {
   "cell_type": "code",
   "execution_count": 3,
   "metadata": {},
   "outputs": [],
   "source": [
    "def train_test_split_he(X,train_days,test_days):\n",
    "    return X[:,:train_days*24], X[:,train_days*24:(train_days+test_days)*24]\n",
    "\n",
    "X_train_orig, X_test_orig = train_test_split_he(X_orig,60,10) "
   ]
  },
  {
   "cell_type": "code",
   "execution_count": 15,
   "metadata": {},
   "outputs": [],
   "source": [
    "def setup_xy_he(X,past_times,fut_times):\n",
    "    n,m = X.shape\n",
    "    Xhs = []\n",
    "    Yhs = []\n",
    "    for house in range(n-2):\n",
    "        Xis = []\n",
    "        Yis = []\n",
    "        for i in range(past_times,m+1-fut_times):\n",
    "            Xi = torch.cat((X[house,i-past_times:i], # load\n",
    "                            X[-2,i-past_times:i], # temp\n",
    "                            X[-1,i].unsqueeze(0),))  # weekday/weekend\n",
    "            Yi = X[house,i:i+fut_times]\n",
    "            Xis.append(Xi)\n",
    "            Yis.append(Yi)\n",
    "        Xhs.append(torch.stack(Xis))\n",
    "        Yhs.append(torch.stack(Yis))\n",
    "    return torch.stack(Xhs), torch.stack(Yhs)\n",
    "\n",
    "X_train, Y_train = setup_xy_he(X_train_orig,4,1)\n",
    "X_test, Y_test = setup_xy_he(X_test_orig,4,1)"
   ]
  },
  {
   "cell_type": "code",
   "execution_count": 107,
   "metadata": {},
   "outputs": [
    {
     "data": {
      "image/png": "[encoded data removed]",
      "text/plain": [
       "<Figure size 432x288 with 1 Axes>"
      ]
     },
     "metadata": {
      "needs_background": "light"
     },
     "output_type": "display_data"
    }
   ],
   "source": [
    "plt.plot(range(4),X_train[0,:5,:4].T)\n",
    "plt.plot(4*np.ones((1,5)),Y_train[0,:5,0].unsqueeze(0),'.')\n",
    "plt.show()"
   ]
  },
  {
   "cell_type": "markdown",
   "metadata": {},
   "source": [
    "### Baselines"
   ]
  },
  {
   "cell_type": "code",
   "execution_count": 40,
   "metadata": {},
   "outputs": [],
   "source": [
    "from sklearn.metrics import mean_absolute_error, mean_squared_error\n",
    "from sklearn import linear_model, svm, neural_network"
   ]
  },
  {
   "cell_type": "code",
   "execution_count": 25,
   "metadata": {},
   "outputs": [],
   "source": [
    "# extract household 1 and 2 data\n",
    "\n",
    "Xr1, Yr1 = X_train[0,:,:].numpy(), Y_train[0,:,0].numpy()\n",
    "Xt1, Yt1 = X_test[0,:,:].numpy(), Y_test[0,:,0].numpy()\n",
    "Xr2, Yr2 = X_train[1,:,:].numpy(), Y_train[1,:,0].numpy()\n",
    "Xt2, Yt2 = X_test[1,:,:].numpy(), Y_test[1,:,0].numpy()"
   ]
  },
  {
   "cell_type": "markdown",
   "metadata": {},
   "source": [
    "#### LinReg"
   ]
  },
  {
   "cell_type": "code",
   "execution_count": 31,
   "metadata": {},
   "outputs": [
    {
     "name": "stdout",
     "output_type": "stream",
     "text": [
      "MAPE: 1.089018\n",
      "MSE: 2.324192\n"
     ]
    }
   ],
   "source": [
    "house1lr = linear_model.LinearRegression()\n",
    "house1lr.fit(Xr1,Yr1)\n",
    "house1lr_pred = house1lr.predict(Xt1)\n",
    "\n",
    "print(\"MAPE: %f\" %(mean_absolute_error(Yt1,house1lr_pred)))\n",
    "print(\"MSE: %f\" %(mean_squared_error(Yt1,house1lr_pred)))"
   ]
  },
  {
   "cell_type": "code",
   "execution_count": 32,
   "metadata": {},
   "outputs": [
    {
     "name": "stdout",
     "output_type": "stream",
     "text": [
      "MAPE: 1.342140\n",
      "MSE: 2.994055\n"
     ]
    }
   ],
   "source": [
    "house2lr = linear_model.LinearRegression()\n",
    "house2lr.fit(Xr2,Yr2)\n",
    "house2lr_pred = house1lr.predict(Xt2)\n",
    "\n",
    "print(\"MAPE: %f\" %(mean_absolute_error(Yt2,house2lr_pred)))\n",
    "print(\"MSE: %f\" %(mean_squared_error(Yt2,house2lr_pred)))"
   ]
  },
  {
   "cell_type": "markdown",
   "metadata": {},
   "source": [
    "#### SVR"
   ]
  },
  {
   "cell_type": "code",
   "execution_count": 38,
   "metadata": {},
   "outputs": [
    {
     "name": "stdout",
     "output_type": "stream",
     "text": [
      "MAPE: 1.046655\n",
      "MSE: 2.252988\n"
     ]
    }
   ],
   "source": [
    "house1svr = svm.SVR(kernel = 'linear')\n",
    "house1svr.fit(Xr1,Yr1)\n",
    "house1svr_pred = house1svr.predict(Xt1)\n",
    "\n",
    "print(\"MAPE: %f\" %(mean_absolute_error(Yt1,house1svr_pred)))\n",
    "print(\"MSE: %f\" %(mean_squared_error(Yt1,house1svr_pred)))"
   ]
  },
  {
   "cell_type": "code",
   "execution_count": 57,
   "metadata": {},
   "outputs": [
    {
     "name": "stdout",
     "output_type": "stream",
     "text": [
      "MAPE: 1.224588\n",
      "MSE: 2.750958\n"
     ]
    }
   ],
   "source": [
    "house2svr = svm.SVR(kernel = 'linear')\n",
    "house2svr.fit(Xr2,Yr2)\n",
    "house2svr_pred = house2svr.predict(Xt2)\n",
    "\n",
    "print(\"MAPE: %f\" %(mean_absolute_error(Yt2,house2svr_pred)))\n",
    "print(\"MSE: %f\" %(mean_squared_error(Yt2,house2svr_pred)))"
   ]
  },
  {
   "cell_type": "markdown",
   "metadata": {},
   "source": [
    "####  FNN"
   ]
  },
  {
   "cell_type": "code",
   "execution_count": 71,
   "metadata": {},
   "outputs": [],
   "source": [
    "from sklearn.preprocessing import StandardScaler\n",
    "\n",
    "sc1 = StandardScaler()\n",
    "sc1.fit(Xr1)\n",
    "Xr1s = sc1.transform(Xr1)\n",
    "Xt1s = sc1.transform(Xt1)\n",
    "\n",
    "sc2 = StandardScaler()\n",
    "sc2.fit(Xr2)\n",
    "Xr2s = sc2.transform(Xr2)\n",
    "Xt2s = sc2.transform(Xt2)\n",
    "\n",
    "# unused"
   ]
  },
  {
   "cell_type": "code",
   "execution_count": 97,
   "metadata": {},
   "outputs": [
    {
     "name": "stdout",
     "output_type": "stream",
     "text": [
      "MAPE: 1.077050\n",
      "MSE: 2.185933\n"
     ]
    }
   ],
   "source": [
    "house1nn = neural_network.MLPRegressor(hidden_layer_sizes = (40,40,40), \n",
    "                                       solver='adam', random_state=1,\n",
    "                                       learning_rate='adaptive', alpha=.1)\n",
    "house1nn.fit(Xr1,Yr1)\n",
    "\n",
    "house1nn_pred = house1nn.predict(Xt1)\n",
    "\n",
    "print(\"MAPE: %f\" %(mean_absolute_error(Yt1,house1nn_pred)))\n",
    "print(\"MSE: %f\" %(mean_squared_error(Yt1,house1nn_pred)))"
   ]
  },
  {
   "cell_type": "code",
   "execution_count": 90,
   "metadata": {},
   "outputs": [
    {
     "name": "stdout",
     "output_type": "stream",
     "text": [
      "MAPE: 1.561057\n",
      "MSE: 4.306277\n"
     ]
    }
   ],
   "source": [
    "house2nn = neural_network.MLPRegressor(hidden_layer_sizes = (40,40,40), \n",
    "                                       solver='adam', random_state=1,\n",
    "                                       learning_rate='adaptive', alpha=.1)\n",
    "house2nn.fit(Xr2,Yr2)\n",
    "\n",
    "house2nn_pred = house2nn.predict(Xt2)\n",
    "\n",
    "print(\"MAPE: %f\" %(mean_absolute_error(Yt2,house2nn_pred)))\n",
    "print(\"MSE: %f\" %(mean_squared_error(Yt2,house2nn_pred)))"
   ]
  }
 ],
 "metadata": {
  "kernelspec": {
   "display_name": "Python 3",
   "language": "python",
   "name": "python3"
  },
  "language_info": {
   "codemirror_mode": {
    "name": "ipython",
    "version": 3
   },
   "file_extension": ".py",
   "mimetype": "text/x-python",
   "name": "python",
   "nbconvert_exporter": "python",
   "pygments_lexer": "ipython3",
   "version": "3.7.0"
  }
 },
 "nbformat": 4,
 "nbformat_minor": 4
}
