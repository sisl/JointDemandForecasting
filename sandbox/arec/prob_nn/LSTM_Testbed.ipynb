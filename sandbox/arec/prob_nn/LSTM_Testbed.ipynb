{
 "cells": [
  {
   "cell_type": "code",
   "execution_count": 1,
   "metadata": {},
   "outputs": [],
   "source": [
    "import os\n",
    "import sys\n",
    "import numpy as np\n",
    "import sklearn as skl\n",
    "import tqdm\n",
    "import pandas as pd\n",
    "import time\n",
    "import torch\n",
    "import matplotlib.pyplot as plt\n",
    "import torch.nn as nn\n",
    "\n",
    "from models import *\n",
    "from utils import *\n",
    "from kalman import *\n",
    "\n",
    "%load_ext autoreload\n",
    "%autoreload 2"
   ]
  },
  {
   "cell_type": "code",
   "execution_count": 3,
   "metadata": {},
   "outputs": [
    {
     "data": {
      "text/plain": [
       "LSTMS2S(\n",
       "  (lstm): LSTM(1, 40, batch_first=True)\n",
       "  (fc): Sequential(\n",
       "    (0): Linear(in_features=40, out_features=20, bias=True)\n",
       "    (1): LeakyReLU(negative_slope=0.01)\n",
       "    (2): Linear(in_features=20, out_features=20, bias=True)\n",
       "    (3): LeakyReLU(negative_slope=0.01)\n",
       "    (4): Linear(in_features=20, out_features=2, bias=True)\n",
       "  )\n",
       ")"
      ]
     },
     "execution_count": 3,
     "metadata": {},
     "output_type": "execute_result"
    }
   ],
   "source": [
    "lstm = LSTMS2S(1, 40, [20,20], 1, num_layers=1, sequence_length=12,prob=True)\n",
    "lstm.load_state_dict(torch.load(\"load_lstm.pt\"))\n",
    "lstm.eval()"
   ]
  },
  {
   "cell_type": "code",
   "execution_count": 12,
   "metadata": {},
   "outputs": [
    {
     "name": "stdout",
     "output_type": "stream",
     "text": [
      "1.1\n",
      "(tensor([[[-1.1258, -1.1524, -0.2506, -0.4339,  0.8487,  0.6920, -0.3160,\n",
      "          -2.1152,  0.3223, -1.2633,  0.3500,  0.3081,  0.1198,  1.2377,\n",
      "           1.1168, -0.2473, -1.3527, -1.6959,  0.5667,  0.7935,  0.5988,\n",
      "          -1.5551, -0.3414,  1.8530, -0.2159, -0.7425,  0.5627,  0.2596,\n",
      "          -0.1740, -0.6787,  0.9383,  0.4889,  1.2032,  0.0845, -1.2001,\n",
      "          -0.0048, -0.5181, -0.3067, -1.5810,  1.7066]]]), tensor([[[ 0.2055, -0.4503, -0.5731, -0.5554,  0.5943,  1.5419,  0.5073,\n",
      "          -0.5910, -1.3253,  0.1886, -0.0691, -0.4949, -1.4959, -0.1938,\n",
      "           0.4455,  1.3253,  1.5091,  2.0820,  1.7067,  2.3804, -1.1256,\n",
      "          -0.3170, -1.0925, -0.0852,  1.6459, -1.3602,  0.3446,  0.5199,\n",
      "          -2.6133, -1.6965, -0.2282,  0.2800,  0.2469,  0.0769,  0.3380,\n",
      "           0.4544,  0.4569, -0.8654,  0.7813, -0.9268]]]))\n",
      "1.2\n",
      "(tensor([[[ 4.9239e-02, -6.4942e-01, -7.2941e-01, -4.9086e-02,  1.3838e-01,\n",
      "           1.0601e-01,  3.6570e-01, -2.1360e-01, -3.4228e-04,  1.7403e-05,\n",
      "           1.1983e-01,  5.1448e-01, -3.0742e-04,  1.7050e-03,  4.9022e-02,\n",
      "          -3.7234e-03,  5.5872e-03, -2.9107e-01,  1.0148e-01,  1.7885e-02,\n",
      "          -5.1355e-02,  7.2062e-03, -5.0094e-02, -6.2376e-07, -6.3213e-01,\n",
      "           2.8611e-01, -3.9099e-02, -2.8483e-03,  1.3918e-03, -6.1200e-01,\n",
      "          -7.0297e-01,  3.8612e-01,  1.6817e-03, -4.7957e-02,  1.4165e-04,\n",
      "           1.7817e-02, -5.7296e-02, -3.7657e-02, -5.9964e-02, -7.6719e-03]]],\n",
      "       grad_fn=<TransposeBackward0>), (tensor([[[ 4.9239e-02, -6.4942e-01, -7.2941e-01, -4.9086e-02,  1.3838e-01,\n",
      "           1.0601e-01,  3.6570e-01, -2.1360e-01, -3.4228e-04,  1.7403e-05,\n",
      "           1.1983e-01,  5.1448e-01, -3.0742e-04,  1.7050e-03,  4.9022e-02,\n",
      "          -3.7234e-03,  5.5872e-03, -2.9107e-01,  1.0148e-01,  1.7885e-02,\n",
      "          -5.1355e-02,  7.2062e-03, -5.0094e-02, -6.2376e-07, -6.3213e-01,\n",
      "           2.8611e-01, -3.9099e-02, -2.8483e-03,  1.3918e-03, -6.1200e-01,\n",
      "          -7.0297e-01,  3.8612e-01,  1.6817e-03, -4.7957e-02,  1.4165e-04,\n",
      "           1.7817e-02, -5.7296e-02, -3.7657e-02, -5.9964e-02, -7.6719e-03]]],\n",
      "       grad_fn=<StackBackward>), tensor([[[ 1.3703e-01, -7.8278e-01, -9.9563e-01, -3.2652e-01,  4.0244e-01,\n",
      "           1.6102e-01,  5.0335e-01, -5.9460e-01, -6.3930e-01,  2.5456e-02,\n",
      "           9.1011e-01,  5.7119e-01, -1.0921e+00,  7.1909e-01,  4.9070e-02,\n",
      "          -9.3740e-01,  1.1457e+00, -3.0320e-01,  1.0186e-01,  2.1949e+00,\n",
      "          -5.4087e-02,  1.4250e-02, -1.8197e+00, -7.7988e-04, -7.4496e-01,\n",
      "           9.9134e-01, -1.4711e-01, -5.4106e-01,  1.3239e-01, -7.2832e-01,\n",
      "          -9.0547e-01,  6.6918e-01,  3.3030e-02, -8.1499e-01,  6.0390e-02,\n",
      "           9.6788e-02, -5.1426e-01, -2.1058e-01, -4.2308e-01, -1.8996e-01]]],\n",
      "       grad_fn=<StackBackward>)))\n"
     ]
    },
    {
     "ename": "AttributeError",
     "evalue": "'tuple' object has no attribute 'size'",
     "output_type": "error",
     "traceback": [
      "\u001b[0;31m---------------------------------------------------------------------------\u001b[0m",
      "\u001b[0;31mAttributeError\u001b[0m                            Traceback (most recent call last)",
      "\u001b[0;32m<ipython-input-12-21896d6dfec3>\u001b[0m in \u001b[0;36m<module>\u001b[0;34m\u001b[0m\n\u001b[1;32m      7\u001b[0m     \u001b[0mx\u001b[0m \u001b[0;34m=\u001b[0m \u001b[0mtorch\u001b[0m\u001b[0;34m.\u001b[0m\u001b[0mtensor\u001b[0m\u001b[0;34m(\u001b[0m\u001b[0;34m[\u001b[0m\u001b[0;34m[\u001b[0m\u001b[0;34m[\u001b[0m\u001b[0mcost\u001b[0m\u001b[0;34m]\u001b[0m\u001b[0;34m]\u001b[0m\u001b[0;34m]\u001b[0m\u001b[0;34m)\u001b[0m\u001b[0;34m\u001b[0m\u001b[0;34m\u001b[0m\u001b[0m\n\u001b[1;32m      8\u001b[0m     \u001b[0mprint\u001b[0m\u001b[0;34m(\u001b[0m\u001b[0mstate\u001b[0m\u001b[0;34m)\u001b[0m\u001b[0;34m\u001b[0m\u001b[0;34m\u001b[0m\u001b[0m\n\u001b[0;32m----> 9\u001b[0;31m     \u001b[0mstate\u001b[0m \u001b[0;34m=\u001b[0m \u001b[0mlstm\u001b[0m\u001b[0;34m.\u001b[0m\u001b[0mlstm\u001b[0m\u001b[0;34m(\u001b[0m\u001b[0mx\u001b[0m\u001b[0;34m.\u001b[0m\u001b[0mfloat\u001b[0m\u001b[0;34m(\u001b[0m\u001b[0;34m)\u001b[0m\u001b[0;34m,\u001b[0m\u001b[0mstate\u001b[0m\u001b[0;34m)\u001b[0m\u001b[0;34m\u001b[0m\u001b[0;34m\u001b[0m\u001b[0m\n\u001b[0m",
      "\u001b[0;32m~/miniconda3/envs/blf/lib/python3.7/site-packages/torch/nn/modules/module.py\u001b[0m in \u001b[0;36m__call__\u001b[0;34m(self, *input, **kwargs)\u001b[0m\n\u001b[1;32m    539\u001b[0m             \u001b[0mresult\u001b[0m \u001b[0;34m=\u001b[0m \u001b[0mself\u001b[0m\u001b[0;34m.\u001b[0m\u001b[0m_slow_forward\u001b[0m\u001b[0;34m(\u001b[0m\u001b[0;34m*\u001b[0m\u001b[0minput\u001b[0m\u001b[0;34m,\u001b[0m \u001b[0;34m**\u001b[0m\u001b[0mkwargs\u001b[0m\u001b[0;34m)\u001b[0m\u001b[0;34m\u001b[0m\u001b[0;34m\u001b[0m\u001b[0m\n\u001b[1;32m    540\u001b[0m         \u001b[0;32melse\u001b[0m\u001b[0;34m:\u001b[0m\u001b[0;34m\u001b[0m\u001b[0;34m\u001b[0m\u001b[0m\n\u001b[0;32m--> 541\u001b[0;31m             \u001b[0mresult\u001b[0m \u001b[0;34m=\u001b[0m \u001b[0mself\u001b[0m\u001b[0;34m.\u001b[0m\u001b[0mforward\u001b[0m\u001b[0;34m(\u001b[0m\u001b[0;34m*\u001b[0m\u001b[0minput\u001b[0m\u001b[0;34m,\u001b[0m \u001b[0;34m**\u001b[0m\u001b[0mkwargs\u001b[0m\u001b[0;34m)\u001b[0m\u001b[0;34m\u001b[0m\u001b[0;34m\u001b[0m\u001b[0m\n\u001b[0m\u001b[1;32m    542\u001b[0m         \u001b[0;32mfor\u001b[0m \u001b[0mhook\u001b[0m \u001b[0;32min\u001b[0m \u001b[0mself\u001b[0m\u001b[0;34m.\u001b[0m\u001b[0m_forward_hooks\u001b[0m\u001b[0;34m.\u001b[0m\u001b[0mvalues\u001b[0m\u001b[0;34m(\u001b[0m\u001b[0;34m)\u001b[0m\u001b[0;34m:\u001b[0m\u001b[0;34m\u001b[0m\u001b[0;34m\u001b[0m\u001b[0m\n\u001b[1;32m    543\u001b[0m             \u001b[0mhook_result\u001b[0m \u001b[0;34m=\u001b[0m \u001b[0mhook\u001b[0m\u001b[0;34m(\u001b[0m\u001b[0mself\u001b[0m\u001b[0;34m,\u001b[0m \u001b[0minput\u001b[0m\u001b[0;34m,\u001b[0m \u001b[0mresult\u001b[0m\u001b[0;34m)\u001b[0m\u001b[0;34m\u001b[0m\u001b[0;34m\u001b[0m\u001b[0m\n",
      "\u001b[0;32m~/miniconda3/envs/blf/lib/python3.7/site-packages/torch/nn/modules/rnn.py\u001b[0m in \u001b[0;36mforward\u001b[0;34m(self, input, hx)\u001b[0m\n\u001b[1;32m    562\u001b[0m             \u001b[0;32mreturn\u001b[0m \u001b[0mself\u001b[0m\u001b[0;34m.\u001b[0m\u001b[0mforward_packed\u001b[0m\u001b[0;34m(\u001b[0m\u001b[0minput\u001b[0m\u001b[0;34m,\u001b[0m \u001b[0mhx\u001b[0m\u001b[0;34m)\u001b[0m\u001b[0;34m\u001b[0m\u001b[0;34m\u001b[0m\u001b[0m\n\u001b[1;32m    563\u001b[0m         \u001b[0;32melse\u001b[0m\u001b[0;34m:\u001b[0m\u001b[0;34m\u001b[0m\u001b[0;34m\u001b[0m\u001b[0m\n\u001b[0;32m--> 564\u001b[0;31m             \u001b[0;32mreturn\u001b[0m \u001b[0mself\u001b[0m\u001b[0;34m.\u001b[0m\u001b[0mforward_tensor\u001b[0m\u001b[0;34m(\u001b[0m\u001b[0minput\u001b[0m\u001b[0;34m,\u001b[0m \u001b[0mhx\u001b[0m\u001b[0;34m)\u001b[0m\u001b[0;34m\u001b[0m\u001b[0;34m\u001b[0m\u001b[0m\n\u001b[0m\u001b[1;32m    565\u001b[0m \u001b[0;34m\u001b[0m\u001b[0m\n\u001b[1;32m    566\u001b[0m \u001b[0;34m\u001b[0m\u001b[0m\n",
      "\u001b[0;32m~/miniconda3/envs/blf/lib/python3.7/site-packages/torch/nn/modules/rnn.py\u001b[0m in \u001b[0;36mforward_tensor\u001b[0;34m(self, input, hx)\u001b[0m\n\u001b[1;32m    541\u001b[0m         \u001b[0munsorted_indices\u001b[0m \u001b[0;34m=\u001b[0m \u001b[0;32mNone\u001b[0m\u001b[0;34m\u001b[0m\u001b[0;34m\u001b[0m\u001b[0m\n\u001b[1;32m    542\u001b[0m \u001b[0;34m\u001b[0m\u001b[0m\n\u001b[0;32m--> 543\u001b[0;31m         \u001b[0moutput\u001b[0m\u001b[0;34m,\u001b[0m \u001b[0mhidden\u001b[0m \u001b[0;34m=\u001b[0m \u001b[0mself\u001b[0m\u001b[0;34m.\u001b[0m\u001b[0mforward_impl\u001b[0m\u001b[0;34m(\u001b[0m\u001b[0minput\u001b[0m\u001b[0;34m,\u001b[0m \u001b[0mhx\u001b[0m\u001b[0;34m,\u001b[0m \u001b[0mbatch_sizes\u001b[0m\u001b[0;34m,\u001b[0m \u001b[0mmax_batch_size\u001b[0m\u001b[0;34m,\u001b[0m \u001b[0msorted_indices\u001b[0m\u001b[0;34m)\u001b[0m\u001b[0;34m\u001b[0m\u001b[0;34m\u001b[0m\u001b[0m\n\u001b[0m\u001b[1;32m    544\u001b[0m \u001b[0;34m\u001b[0m\u001b[0m\n\u001b[1;32m    545\u001b[0m         \u001b[0;32mreturn\u001b[0m \u001b[0moutput\u001b[0m\u001b[0;34m,\u001b[0m \u001b[0mself\u001b[0m\u001b[0;34m.\u001b[0m\u001b[0mpermute_hidden\u001b[0m\u001b[0;34m(\u001b[0m\u001b[0mhidden\u001b[0m\u001b[0;34m,\u001b[0m \u001b[0munsorted_indices\u001b[0m\u001b[0;34m)\u001b[0m\u001b[0;34m\u001b[0m\u001b[0;34m\u001b[0m\u001b[0m\n",
      "\u001b[0;32m~/miniconda3/envs/blf/lib/python3.7/site-packages/torch/nn/modules/rnn.py\u001b[0m in \u001b[0;36mforward_impl\u001b[0;34m(self, input, hx, batch_sizes, max_batch_size, sorted_indices)\u001b[0m\n\u001b[1;32m    521\u001b[0m             \u001b[0mhx\u001b[0m \u001b[0;34m=\u001b[0m \u001b[0mself\u001b[0m\u001b[0;34m.\u001b[0m\u001b[0mpermute_hidden\u001b[0m\u001b[0;34m(\u001b[0m\u001b[0mhx\u001b[0m\u001b[0;34m,\u001b[0m \u001b[0msorted_indices\u001b[0m\u001b[0;34m)\u001b[0m\u001b[0;34m\u001b[0m\u001b[0;34m\u001b[0m\u001b[0m\n\u001b[1;32m    522\u001b[0m \u001b[0;34m\u001b[0m\u001b[0m\n\u001b[0;32m--> 523\u001b[0;31m         \u001b[0mself\u001b[0m\u001b[0;34m.\u001b[0m\u001b[0mcheck_forward_args\u001b[0m\u001b[0;34m(\u001b[0m\u001b[0minput\u001b[0m\u001b[0;34m,\u001b[0m \u001b[0mhx\u001b[0m\u001b[0;34m,\u001b[0m \u001b[0mbatch_sizes\u001b[0m\u001b[0;34m)\u001b[0m\u001b[0;34m\u001b[0m\u001b[0;34m\u001b[0m\u001b[0m\n\u001b[0m\u001b[1;32m    524\u001b[0m         \u001b[0;32mif\u001b[0m \u001b[0mbatch_sizes\u001b[0m \u001b[0;32mis\u001b[0m \u001b[0;32mNone\u001b[0m\u001b[0;34m:\u001b[0m\u001b[0;34m\u001b[0m\u001b[0;34m\u001b[0m\u001b[0m\n\u001b[1;32m    525\u001b[0m             result = _VF.lstm(input, hx, self._get_flat_weights(), self.bias, self.num_layers,\n",
      "\u001b[0;32m~/miniconda3/envs/blf/lib/python3.7/site-packages/torch/nn/modules/rnn.py\u001b[0m in \u001b[0;36mcheck_forward_args\u001b[0;34m(self, input, hidden, batch_sizes)\u001b[0m\n\u001b[1;32m    500\u001b[0m                                'Expected hidden[0] size {}, got {}')\n\u001b[1;32m    501\u001b[0m         self.check_hidden_size(hidden[1], expected_hidden_size,\n\u001b[0;32m--> 502\u001b[0;31m                                'Expected hidden[1] size {}, got {}')\n\u001b[0m\u001b[1;32m    503\u001b[0m \u001b[0;34m\u001b[0m\u001b[0m\n\u001b[1;32m    504\u001b[0m     \u001b[0;32mdef\u001b[0m \u001b[0mpermute_hidden\u001b[0m\u001b[0;34m(\u001b[0m\u001b[0mself\u001b[0m\u001b[0;34m,\u001b[0m \u001b[0mhx\u001b[0m\u001b[0;34m,\u001b[0m \u001b[0mpermutation\u001b[0m\u001b[0;34m)\u001b[0m\u001b[0;34m:\u001b[0m\u001b[0;34m\u001b[0m\u001b[0;34m\u001b[0m\u001b[0m\n",
      "\u001b[0;32m~/miniconda3/envs/blf/lib/python3.7/site-packages/torch/nn/modules/rnn.py\u001b[0m in \u001b[0;36mcheck_hidden_size\u001b[0;34m(self, hx, expected_hidden_size, msg)\u001b[0m\n\u001b[1;32m    163\u001b[0m     \u001b[0;32mdef\u001b[0m \u001b[0mcheck_hidden_size\u001b[0m\u001b[0;34m(\u001b[0m\u001b[0mself\u001b[0m\u001b[0;34m,\u001b[0m \u001b[0mhx\u001b[0m\u001b[0;34m,\u001b[0m \u001b[0mexpected_hidden_size\u001b[0m\u001b[0;34m,\u001b[0m \u001b[0mmsg\u001b[0m\u001b[0;34m=\u001b[0m\u001b[0;34m'Expected hidden size {}, got {}'\u001b[0m\u001b[0;34m)\u001b[0m\u001b[0;34m:\u001b[0m\u001b[0;34m\u001b[0m\u001b[0;34m\u001b[0m\u001b[0m\n\u001b[1;32m    164\u001b[0m         \u001b[0;31m# type: (Tensor, Tuple[int, int, int], str) -> None\u001b[0m\u001b[0;34m\u001b[0m\u001b[0;34m\u001b[0m\u001b[0;34m\u001b[0m\u001b[0m\n\u001b[0;32m--> 165\u001b[0;31m         \u001b[0;32mif\u001b[0m \u001b[0mhx\u001b[0m\u001b[0;34m.\u001b[0m\u001b[0msize\u001b[0m\u001b[0;34m(\u001b[0m\u001b[0;34m)\u001b[0m \u001b[0;34m!=\u001b[0m \u001b[0mexpected_hidden_size\u001b[0m\u001b[0;34m:\u001b[0m\u001b[0;34m\u001b[0m\u001b[0;34m\u001b[0m\u001b[0m\n\u001b[0m\u001b[1;32m    166\u001b[0m             \u001b[0;32mraise\u001b[0m \u001b[0mRuntimeError\u001b[0m\u001b[0;34m(\u001b[0m\u001b[0mmsg\u001b[0m\u001b[0;34m.\u001b[0m\u001b[0mformat\u001b[0m\u001b[0;34m(\u001b[0m\u001b[0mexpected_hidden_size\u001b[0m\u001b[0;34m,\u001b[0m \u001b[0mtuple\u001b[0m\u001b[0;34m(\u001b[0m\u001b[0mhx\u001b[0m\u001b[0;34m.\u001b[0m\u001b[0msize\u001b[0m\u001b[0;34m(\u001b[0m\u001b[0;34m)\u001b[0m\u001b[0;34m)\u001b[0m\u001b[0;34m)\u001b[0m\u001b[0;34m)\u001b[0m\u001b[0;34m\u001b[0m\u001b[0;34m\u001b[0m\u001b[0m\n\u001b[1;32m    167\u001b[0m \u001b[0;34m\u001b[0m\u001b[0m\n",
      "\u001b[0;31mAttributeError\u001b[0m: 'tuple' object has no attribute 'size'"
     ]
    }
   ],
   "source": [
    "costs = [1.1,1.2,1.3,1.4,1.5,1.6]\n",
    "\n",
    "torch.manual_seed(0)\n",
    "state = lstm.initialize_lstm(torch.tensor([[[costs[0]]]]).float())\n",
    "for cost in costs:\n",
    "    print(cost)\n",
    "    x = torch.tensor([[[cost]]])\n",
    "    print(state)\n",
    "    state = lstm.lstm(x.float(),state)\n"
   ]
  },
  {
   "cell_type": "markdown",
   "metadata": {},
   "source": [
    "## Load in Raw X and Y Data"
   ]
  },
  {
   "cell_type": "code",
   "execution_count": 2,
   "metadata": {},
   "outputs": [],
   "source": [
    "file_location = '../data/processed'\n",
    "locnum = 11\n",
    "postfix = '_openei_%03d_subset_multitask.pt' %(locnum)\n",
    "X0 = torch.load(os.path.join(file_location, \"X\"+postfix))\n",
    "Y0 = torch.load(os.path.join(file_location, \"Y\"+postfix))\n",
    "\n",
    "m,n = X0.shape\n",
    "m,o = Y0.shape\n",
    "X = torch.reshape(X0,(locnum,-1,n)).double()\n",
    "Y = torch.reshape(Y0,(locnum,-1,o)).double()"
   ]
  },
  {
   "cell_type": "code",
   "execution_count": 3,
   "metadata": {},
   "outputs": [
    {
     "data": {
      "image/png": "[encoded data removed]",
      "text/plain": [
       "<Figure size 432x288 with 1 Axes>"
      ]
     },
     "metadata": {
      "needs_background": "light"
     },
     "output_type": "display_data"
    }
   ],
   "source": [
    "plt.plot(range(Y.shape[1]),Y[0,range(Y.shape[1]),0])\n",
    "plt.show()"
   ]
  },
  {
   "cell_type": "code",
   "execution_count": 4,
   "metadata": {},
   "outputs": [
    {
     "data": {
      "image/png": "[encoded data removed]",
      "text/plain": [
       "<Figure size 432x288 with 1 Axes>"
      ]
     },
     "metadata": {
      "needs_background": "light"
     },
     "output_type": "display_data"
    }
   ],
   "source": [
    "plt.plot(range(Y.shape[1]//15),Y[0,range(Y.shape[1]//15),0])\n",
    "plt.show()"
   ]
  },
  {
   "cell_type": "code",
   "execution_count": 6,
   "metadata": {},
   "outputs": [
    {
     "name": "stderr",
     "output_type": "stream",
     "text": [
      "/home/arec/miniconda3/envs/blf/lib/python3.7/site-packages/numpy/core/_asarray.py:85: ComplexWarning: Casting complex values to real discards the imaginary part\n",
      "  return array(a, dtype, copy=False, order=order)\n"
     ]
    },
    {
     "data": {
      "image/png": "[encoded data removed]",
      "text/plain": [
       "<Figure size 432x288 with 1 Axes>"
      ]
     },
     "metadata": {
      "needs_background": "light"
     },
     "output_type": "display_data"
    }
   ],
   "source": [
    "fourier = np.fft.fft(Y[0,:,0])\n",
    "freq = np.fft.fftfreq(Y.shape[-2])\n",
    "n = len(fourier)//10\n",
    "plt.plot(freq[:n],fourier[:n])\n",
    "plt.show()\n",
    "# rough periodicity every 12 and 24 hours"
   ]
  },
  {
   "cell_type": "code",
   "execution_count": null,
   "metadata": {},
   "outputs": [],
   "source": [
    "#np.savetxt('loads.csv', X[0,:,[0]].float().t().data.numpy(), fmt='%.8e', delimiter=',')"
   ]
  },
  {
   "cell_type": "markdown",
   "metadata": {},
   "source": [
    "## Load Prediction just from time"
   ]
  },
  {
   "cell_type": "code",
   "execution_count": 7,
   "metadata": {
    "scrolled": true
   },
   "outputs": [
    {
     "name": "stdout",
     "output_type": "stream",
     "text": [
      "epoch : 1, loss: 0.0524\n",
      "epoch : 2, loss: 0.0125\n",
      "epoch : 3, loss: 0.0115\n",
      "epoch : 4, loss: 0.0108\n",
      "epoch : 5, loss: 0.0106\n",
      "epoch : 6, loss: 0.0103\n",
      "epoch : 7, loss: 0.0100\n",
      "epoch : 8, loss: 0.0099\n",
      "epoch : 9, loss: 0.0098\n",
      "epoch : 10, loss: 0.0097\n",
      "epoch : 11, loss: 0.0096\n",
      "epoch : 12, loss: 0.0097\n",
      "epoch : 13, loss: 0.0096\n",
      "epoch : 14, loss: 0.0095\n",
      "epoch : 15, loss: 0.0095\n",
      "epoch : 16, loss: 0.0093\n",
      "epoch : 17, loss: 0.0091\n",
      "epoch : 18, loss: 0.0091\n",
      "epoch : 19, loss: 0.0089\n",
      "epoch : 20, loss: 0.0088\n",
      "epoch : 21, loss: 0.0088\n",
      "epoch : 22, loss: 0.0087\n",
      "epoch : 23, loss: 0.0086\n",
      "epoch : 24, loss: 0.0086\n",
      "epoch : 25, loss: 0.0088\n",
      "epoch : 26, loss: 0.0085\n",
      "epoch : 27, loss: 0.0085\n",
      "epoch : 28, loss: 0.0083\n",
      "epoch : 29, loss: 0.0084\n",
      "epoch : 30, loss: 0.0085\n",
      "epoch : 31, loss: 0.0084\n",
      "epoch : 32, loss: 0.0084\n",
      "epoch : 33, loss: 0.0086\n",
      "epoch : 34, loss: 0.0084\n",
      "epoch : 35, loss: 0.0083\n",
      "epoch : 36, loss: 0.0084\n",
      "epoch : 37, loss: 0.0082\n",
      "epoch : 38, loss: 0.0083\n",
      "epoch : 39, loss: 0.0084\n",
      "epoch : 40, loss: 0.0082\n",
      "epoch : 41, loss: 0.0082\n",
      "epoch : 42, loss: 0.0082\n",
      "epoch : 43, loss: 0.0081\n",
      "epoch : 44, loss: 0.0082\n",
      "epoch : 45, loss: 0.0080\n",
      "epoch : 46, loss: 0.0081\n",
      "epoch : 47, loss: 0.0079\n",
      "epoch : 48, loss: 0.0079\n",
      "epoch : 49, loss: 0.0078\n",
      "epoch : 50, loss: 0.0078\n",
      "epoch : 51, loss: 0.0079\n",
      "epoch : 52, loss: 0.0078\n",
      "epoch : 53, loss: 0.0079\n",
      "epoch : 54, loss: 0.0078\n",
      "epoch : 55, loss: 0.0079\n",
      "epoch : 56, loss: 0.0078\n",
      "epoch : 57, loss: 0.0078\n",
      "epoch : 58, loss: 0.0077\n",
      "epoch : 59, loss: 0.0078\n",
      "epoch : 60, loss: 0.0076\n",
      "epoch : 61, loss: 0.0077\n",
      "epoch : 62, loss: 0.0077\n",
      "epoch : 63, loss: 0.0077\n",
      "epoch : 64, loss: 0.0077\n",
      "epoch : 65, loss: 0.0077\n",
      "epoch : 66, loss: 0.0076\n",
      "epoch : 67, loss: 0.0078\n",
      "epoch : 68, loss: 0.0076\n",
      "epoch : 69, loss: 0.0076\n",
      "epoch : 70, loss: 0.0076\n",
      "epoch : 71, loss: 0.0077\n",
      "epoch : 72, loss: 0.0077\n",
      "epoch : 73, loss: 0.0077\n",
      "epoch : 74, loss: 0.0076\n",
      "epoch : 75, loss: 0.0079\n",
      "epoch : 76, loss: 0.0077\n",
      "epoch : 77, loss: 0.0077\n",
      "epoch : 78, loss: 0.0076\n",
      "epoch : 79, loss: 0.0076\n",
      "epoch : 80, loss: 0.0075\n",
      "Learning finished!\n",
      "column : 1, mse loss: 0.008\n",
      "overall mse loss: 0.008\n",
      "column : 1, mape loss: 0.061 pm 0.0579\n",
      "overall mape loss: 0.061\n"
     ]
    }
   ],
   "source": [
    "xcols = [-6,-5,-4,-3,-2,-1]\n",
    "ycols = [0]\n",
    "X_red = X[0,:,xcols]\n",
    "Y_red = X[0,:,ycols]\n",
    "hidden_layers = [40,40,30]\n",
    "\n",
    "batch_size = 32\n",
    "input_size =  len(xcols)\n",
    "output_size = len(ycols)\n",
    "\n",
    "np.random.seed(0)\n",
    "torch.manual_seed(0)\n",
    "X_seq, Y_seq = X_red.float(), Y_red.float()\n",
    "X_train, Y_train, X_test, Y_test = train_test_split(X_seq, Y_seq,proportion_test=0.1)\n",
    "X_batches, Y_batches = batch(X_train, Y_train, batch_size)\n",
    "fc = ARNN(input_size, hidden_layers, output_size)\n",
    "train(fc, X_batches, Y_batches, num_epochs=80, learning_rate=0.01)\n",
    "test(fc, X_test, Y_test,last_only=False,nn=True)\n",
    "#test_naive(X_test, Y_test)"
   ]
  },
  {
   "cell_type": "code",
   "execution_count": 8,
   "metadata": {},
   "outputs": [
    {
     "data": {
      "text/plain": [
       "ARNN(\n",
       "  (fc): Sequential(\n",
       "    (0): Linear(in_features=6, out_features=40, bias=True)\n",
       "    (1): LeakyReLU(negative_slope=0.01)\n",
       "    (2): Linear(in_features=40, out_features=40, bias=True)\n",
       "    (3): LeakyReLU(negative_slope=0.01)\n",
       "    (4): Linear(in_features=40, out_features=30, bias=True)\n",
       "    (5): LeakyReLU(negative_slope=0.01)\n",
       "    (6): Linear(in_features=30, out_features=1, bias=True)\n",
       "  )\n",
       ")"
      ]
     },
     "execution_count": 8,
     "metadata": {},
     "output_type": "execute_result"
    }
   ],
   "source": [
    "## Save and load model\n",
    "fcpath = \"./load_from_time_fc.pt\"\n",
    "torch.save(fc.state_dict(), fcpath)\n",
    "\n",
    "model = ARNN(input_size, hidden_layers, output_size)\n",
    "model.load_state_dict(torch.load(fcpath))\n",
    "model.eval()"
   ]
  },
  {
   "cell_type": "code",
   "execution_count": 9,
   "metadata": {},
   "outputs": [],
   "source": [
    "pred = model.forward(X_seq).detach()\n",
    "residual = Y_seq - pred"
   ]
  },
  {
   "cell_type": "code",
   "execution_count": 8,
   "metadata": {},
   "outputs": [
    {
     "data": {
      "text/plain": [
       "[<matplotlib.lines.Line2D at 0x7f2fa4505d90>]"
      ]
     },
     "execution_count": 8,
     "metadata": {},
     "output_type": "execute_result"
    },
    {
     "data": {
      "image/png": "[encoded data removed]",
      "text/plain": [
       "<Figure size 432x288 with 1 Axes>"
      ]
     },
     "metadata": {
      "needs_background": "light"
     },
     "output_type": "display_data"
    }
   ],
   "source": [
    "plt.plot(residual[:600])"
   ]
  },
  {
   "cell_type": "code",
   "execution_count": 11,
   "metadata": {},
   "outputs": [],
   "source": [
    "# Safe predictions and residuals\n",
    "np.savetxt('predictions.csv', pred.t().data.numpy(), fmt='%.8e', delimiter=',')\n",
    "np.savetxt('residuals.csv', residual.t().data.numpy(), fmt='%.8e', delimiter=',')"
   ]
  },
  {
   "cell_type": "markdown",
   "metadata": {},
   "source": [
    "## Predicting Residual Distribution w/ SSID"
   ]
  },
  {
   "cell_type": "code",
   "execution_count": 53,
   "metadata": {},
   "outputs": [],
   "source": [
    "A = torch.tensor([[0.9529,0.1977,-0.1618],\n",
    "                 [0.0333, 0.7930, 0.2602],\n",
    "                 [-0.0098, 0.0342, -0.9402]])\n",
    "C = torch.tensor([[7.7727, -0.5361, -0.0673]])\n",
    "Q = 0.00001*torch.eye(3)\n",
    "startidx = 1000\n",
    "input_idxs = np.arange(startidx,startidx+7)\n",
    "output_idxs = [startidx+7]\n",
    "\n",
    "data = residual[input_idxs,:]\n",
    "next_step = residual[output_idxs,:]\n",
    "obse, obssigma, mu_history, sigma_history, obse_history, obssigma_history = kalman_fit_predict(data,A,C,Q)"
   ]
  },
  {
   "cell_type": "code",
   "execution_count": 54,
   "metadata": {},
   "outputs": [
    {
     "data": {
      "text/plain": [
       "tensor([[-0.0200]])"
      ]
     },
     "execution_count": 54,
     "metadata": {},
     "output_type": "execute_result"
    }
   ],
   "source": [
    "obse"
   ]
  },
  {
   "cell_type": "code",
   "execution_count": 55,
   "metadata": {},
   "outputs": [
    {
     "data": {
      "text/plain": [
       "[tensor([[57.6136]]),\n",
       " tensor([[4.1508]]),\n",
       " tensor([[2.2737]]),\n",
       " tensor([[0.0011]]),\n",
       " tensor([[0.0011]]),\n",
       " tensor([[0.0009]]),\n",
       " tensor([[0.0009]])]"
      ]
     },
     "execution_count": 55,
     "metadata": {},
     "output_type": "execute_result"
    }
   ],
   "source": [
    "obssigma_history"
   ]
  },
  {
   "cell_type": "code",
   "execution_count": 56,
   "metadata": {},
   "outputs": [
    {
     "data": {
      "text/plain": [
       "[tensor([[0.]]),\n",
       " tensor([[-0.0064]]),\n",
       " tensor([[0.0258]]),\n",
       " tensor([[0.0351]]),\n",
       " tensor([[-0.0568]]),\n",
       " tensor([[-0.0066]]),\n",
       " tensor([[-0.0380]])]"
      ]
     },
     "execution_count": 56,
     "metadata": {},
     "output_type": "execute_result"
    }
   ],
   "source": [
    "obse_history"
   ]
  },
  {
   "cell_type": "code",
   "execution_count": 58,
   "metadata": {},
   "outputs": [
    {
     "data": {
      "text/plain": [
       "(tensor([[-0.0068],\n",
       "         [ 0.0340],\n",
       "         [-0.0006],\n",
       "         [-0.0376],\n",
       "         [-0.0082],\n",
       "         [-0.0427],\n",
       "         [-0.0105]]),\n",
       " tensor([[-0.0120]]))"
      ]
     },
     "execution_count": 58,
     "metadata": {},
     "output_type": "execute_result"
    }
   ],
   "source": [
    "data, next_step"
   ]
  },
  {
   "cell_type": "markdown",
   "metadata": {},
   "source": [
    "## Many-To-Many LSTM"
   ]
  },
  {
   "cell_type": "code",
   "execution_count": 8,
   "metadata": {},
   "outputs": [],
   "source": [
    "#xcols = [0]\n",
    "# xcols = [0,-19,-18,-17,-16,-15,-14,-13,-12,-11,-10,-9,-8,-7,-6,-5,-4,-3,-2,-1]\n",
    "# xcols = range(X.shape[2])\n",
    "\n",
    "# ycols = [0]\n",
    "# ycols = list(range(5))\n",
    "# ycols = [0,1,2,3,4,10]\n",
    "#ycols = [0]\n",
    "# ycols = [5:10]\n",
    "# ycols = [5,6,7,8,9,11]"
   ]
  },
  {
   "cell_type": "code",
   "execution_count": 5,
   "metadata": {
    "scrolled": true
   },
   "outputs": [
    {
     "name": "stdout",
     "output_type": "stream",
     "text": [
      "epoch : 1, loss: 17.5399\n",
      "epoch : 2, loss: -144.0685\n",
      "epoch : 3, loss: -194.2314\n",
      "epoch : 4, loss: -263.9441\n",
      "epoch : 5, loss: -285.3809\n",
      "epoch : 6, loss: -303.1426\n",
      "epoch : 7, loss: -321.0946\n",
      "epoch : 8, loss: -347.2133\n",
      "epoch : 9, loss: -358.7214\n",
      "epoch : 10, loss: -371.2432\n",
      "epoch : 11, loss: -378.0081\n",
      "epoch : 12, loss: -387.7561\n",
      "epoch : 13, loss: -402.7136\n",
      "epoch : 14, loss: -408.1206\n",
      "epoch : 15, loss: -401.7858\n",
      "epoch : 16, loss: -413.5504\n",
      "epoch : 17, loss: -422.6430\n",
      "epoch : 18, loss: -424.0846\n",
      "epoch : 19, loss: -425.2517\n",
      "epoch : 20, loss: -438.9647\n",
      "epoch : 21, loss: -436.2963\n",
      "epoch : 22, loss: -441.3822\n",
      "epoch : 23, loss: -453.6965\n",
      "epoch : 24, loss: -440.7375\n",
      "epoch : 25, loss: -448.7725\n",
      "epoch : 26, loss: -458.6249\n",
      "epoch : 27, loss: -465.7312\n",
      "epoch : 28, loss: -467.9407\n",
      "epoch : 29, loss: -466.5379\n",
      "epoch : 30, loss: -474.4001\n",
      "epoch : 31, loss: -479.4497\n",
      "epoch : 32, loss: -471.0682\n",
      "epoch : 33, loss: -471.8185\n",
      "epoch : 34, loss: -482.7861\n",
      "epoch : 35, loss: -477.4598\n",
      "epoch : 36, loss: -484.6154\n",
      "epoch : 37, loss: -488.7428\n",
      "epoch : 38, loss: -484.8727\n",
      "epoch : 39, loss: -493.7472\n",
      "epoch : 40, loss: -491.4475\n",
      "Learning finished!\n"
     ]
    }
   ],
   "source": [
    "xcols = [0]\n",
    "ycols = [0]\n",
    "\n",
    "X_red = X[0,:,xcols]\n",
    "Y_red = Y[0,:,ycols]\n",
    "\n",
    "hidden_size = 40\n",
    "fc_hidden_layers = [20,20]\n",
    "sequence_length = 12\n",
    "num_layers = 1\n",
    "\n",
    "batch_size = 32\n",
    "input_size =  len(xcols)\n",
    "output_size = len(ycols)\n",
    "\n",
    "X_seq, Y_seq = create_rnn_XY(X_red,Y_red, tw=sequence_length)\n",
    "X_train, Y_train, X_test, Y_test = train_test_split_rnn(X_seq, Y_seq,proportion_test=0.03)\n",
    "X_batches, Y_batches = batch(X_train, Y_train, batch_size)\n",
    "lstm = LSTMS2S(input_size, hidden_size, fc_hidden_layers, output_size, \n",
    "               num_layers=num_layers, sequence_length=sequence_length,prob=True)\n",
    "train(lstm, X_batches, Y_batches, num_epochs=40, learning_rate=0.01,\n",
    "      loss_on_last_half=True,prob=True)\n",
    "#test(lstm, X_test, Y_test)\n",
    "#test_naive(X_test, Y_test)"
   ]
  },
  {
   "cell_type": "code",
   "execution_count": 6,
   "metadata": {},
   "outputs": [],
   "source": [
    "outputs = lstm.forward(X_test)\n",
    "mu,sig = outputs[:,-1,[0]],outputs[:,-1,[1]]"
   ]
  },
  {
   "cell_type": "code",
   "execution_count": 10,
   "metadata": {},
   "outputs": [],
   "source": [
    "lstmpath = \"./load_lstm.pt\"\n",
    "torch.save(lstm.state_dict(), lstmpath)"
   ]
  },
  {
   "cell_type": "code",
   "execution_count": 8,
   "metadata": {},
   "outputs": [
    {
     "name": "stdout",
     "output_type": "stream",
     "text": [
      "(tensor(0.0153, grad_fn=<MeanBackward0>), tensor(0.0170, grad_fn=<StdBackward0>))\n"
     ]
    },
    {
     "data": {
      "text/plain": [
       "[<matplotlib.patches.Polygon at 0x7f261a96cd10>]"
      ]
     },
     "execution_count": 8,
     "metadata": {},
     "output_type": "execute_result"
    },
    {
     "data": {
      "image/png": "[encoded data removed]",
      "text/plain": [
       "<Figure size 432x288 with 1 Axes>"
      ]
     },
     "metadata": {
      "needs_background": "light"
     },
     "output_type": "display_data"
    }
   ],
   "source": [
    "x = ((Y_test[:,-1]-mu)/sig).data.numpy()\n",
    "xplot = np.linspace(-5,5,1000)\n",
    "dens = kde(x,xplot)\n",
    "print(MAPELoss(mu,Y_test[:,-1]))\n",
    "plt.fill(xplot,dens)"
   ]
  },
  {
   "cell_type": "markdown",
   "metadata": {},
   "source": [
    "## Autoregressive NN"
   ]
  },
  {
   "cell_type": "code",
   "execution_count": 11,
   "metadata": {
    "scrolled": true
   },
   "outputs": [
    {
     "name": "stdout",
     "output_type": "stream",
     "text": [
      "epoch : 1, loss: -8.3533\n",
      "epoch : 2, loss: -24.5683\n",
      "epoch : 3, loss: -12.4766\n",
      "epoch : 4, loss: -23.3181\n",
      "epoch : 5, loss: -32.4392\n",
      "epoch : 6, loss: -38.3832\n",
      "epoch : 7, loss: -39.2346\n",
      "epoch : 8, loss: -40.3161\n",
      "epoch : 9, loss: -38.0163\n",
      "epoch : 10, loss: -42.5480\n",
      "epoch : 11, loss: -43.1609\n",
      "epoch : 12, loss: -42.8292\n",
      "epoch : 13, loss: -43.8895\n",
      "epoch : 14, loss: -40.5792\n",
      "epoch : 15, loss: -35.3171\n",
      "epoch : 16, loss: -42.9268\n",
      "epoch : 17, loss: -43.9467\n",
      "epoch : 18, loss: -44.4930\n",
      "epoch : 19, loss: -45.8859\n",
      "epoch : 20, loss: -47.5960\n",
      "epoch : 21, loss: -47.0757\n",
      "epoch : 22, loss: -48.6829\n",
      "epoch : 23, loss: -47.4552\n",
      "epoch : 24, loss: -50.3871\n",
      "epoch : 25, loss: -47.1692\n",
      "epoch : 26, loss: -48.6993\n",
      "epoch : 27, loss: -50.8230\n",
      "epoch : 28, loss: -50.6975\n",
      "epoch : 29, loss: -50.3143\n",
      "epoch : 30, loss: -52.2429\n",
      "epoch : 31, loss: -51.7879\n",
      "epoch : 32, loss: -50.4294\n",
      "epoch : 33, loss: -50.5001\n",
      "epoch : 34, loss: -49.5446\n",
      "epoch : 35, loss: -51.1938\n",
      "epoch : 36, loss: -53.2018\n",
      "epoch : 37, loss: -52.1104\n",
      "epoch : 38, loss: -53.0381\n",
      "epoch : 39, loss: -48.5117\n",
      "epoch : 40, loss: -52.9282\n",
      "epoch : 41, loss: -53.4688\n",
      "epoch : 42, loss: -52.3236\n",
      "epoch : 43, loss: -54.9786\n",
      "epoch : 44, loss: -55.4493\n",
      "epoch : 45, loss: -54.2406\n",
      "epoch : 46, loss: -55.0373\n",
      "epoch : 47, loss: -55.1726\n",
      "epoch : 48, loss: -55.9169\n",
      "epoch : 49, loss: -55.1681\n",
      "epoch : 50, loss: -56.3930\n",
      "epoch : 51, loss: -55.7787\n",
      "epoch : 52, loss: -50.3616\n",
      "epoch : 53, loss: -53.3229\n",
      "epoch : 54, loss: -56.2249\n",
      "epoch : 55, loss: -57.4624\n",
      "epoch : 56, loss: -58.8014\n",
      "epoch : 57, loss: -57.3522\n",
      "epoch : 58, loss: -53.8580\n",
      "epoch : 59, loss: -57.7347\n",
      "epoch : 60, loss: -59.6591\n",
      "epoch : 61, loss: -58.5223\n",
      "epoch : 62, loss: -59.7027\n",
      "epoch : 63, loss: -58.3216\n",
      "epoch : 64, loss: -61.0176\n",
      "epoch : 65, loss: -57.6325\n",
      "epoch : 66, loss: -58.6024\n",
      "epoch : 67, loss: -60.3904\n",
      "epoch : 68, loss: -58.7626\n",
      "epoch : 69, loss: -55.7782\n",
      "epoch : 70, loss: -58.9799\n",
      "epoch : 71, loss: -58.5696\n",
      "epoch : 72, loss: -60.4886\n",
      "epoch : 73, loss: -59.4616\n",
      "epoch : 74, loss: -59.9033\n",
      "epoch : 75, loss: -58.3335\n",
      "epoch : 76, loss: -59.7151\n",
      "epoch : 77, loss: -61.3178\n",
      "epoch : 78, loss: -57.8641\n",
      "epoch : 79, loss: -59.4090\n",
      "epoch : 80, loss: -60.8332\n",
      "Learning finished!\n"
     ]
    }
   ],
   "source": [
    "xcols = [0]\n",
    "ycols = [0]\n",
    "\n",
    "X_red = X[0,:,xcols]\n",
    "Y_red = Y[0,:,ycols]\n",
    "\n",
    "hidden_layers = [40,40,40]\n",
    "sequence_length = 6\n",
    "\n",
    "batch_size = 32\n",
    "input_size =  sequence_length\n",
    "output_size = len(ycols)\n",
    "\n",
    "X_seq, Y_seq = create_nn_XY(X_red,Y_red, tw=sequence_length)\n",
    "X_train, Y_train, X_test, Y_test = train_test_split_nn(X_seq, Y_seq,proportion_test=0.03)\n",
    "X_batches, Y_batches = batch(X_train, Y_train, batch_size)\n",
    "fc = ARNN(input_size, hidden_layers, output_size,prob=True)\n",
    "train(fc, X_batches, Y_batches, num_epochs=80, learning_rate=0.01,prob=True)\n",
    "#test(fc, X_test, Y_test,last_only=False,nn=True)\n",
    "#test_naive(X_test, Y_test)"
   ]
  },
  {
   "cell_type": "code",
   "execution_count": 16,
   "metadata": {},
   "outputs": [
    {
     "name": "stdout",
     "output_type": "stream",
     "text": [
      "(tensor(0.0377, grad_fn=<MeanBackward0>), tensor(0.0257, grad_fn=<StdBackward0>))\n"
     ]
    },
    {
     "data": {
      "text/plain": [
       "[<matplotlib.patches.Polygon at 0x7f2fa4333d50>]"
      ]
     },
     "execution_count": 16,
     "metadata": {},
     "output_type": "execute_result"
    },
    {
     "data": {
      "image/png": "[encoded data removed]",
      "text/plain": [
       "<Figure size 432x288 with 1 Axes>"
      ]
     },
     "metadata": {
      "needs_background": "light"
     },
     "output_type": "display_data"
    }
   ],
   "source": [
    "outputs = fc.forward(X_test)\n",
    "mu,sig = outputs[:,[0]],outputs[:,[1]]\n",
    "\n",
    "x = ((Y_test-mu)/sig).data.numpy()\n",
    "xplot = np.linspace(-5,5,1000)\n",
    "dens = kde(x,xplot)\n",
    "print(MAPELoss(mu,Y_test))\n",
    "plt.fill(xplot,dens)"
   ]
  },
  {
   "cell_type": "code",
   "execution_count": 18,
   "metadata": {},
   "outputs": [],
   "source": [
    "annpath = \"./load_ann.pt\"\n",
    "torch.save(fc.state_dict(), annpath)"
   ]
  },
  {
   "cell_type": "code",
   "execution_count": 7,
   "metadata": {},
   "outputs": [
    {
     "data": {
      "text/plain": [
       "ARNN(\n",
       "  (fc): Sequential(\n",
       "    (0): Linear(in_features=6, out_features=40, bias=True)\n",
       "    (1): LeakyReLU(negative_slope=0.01)\n",
       "    (2): Linear(in_features=40, out_features=40, bias=True)\n",
       "    (3): LeakyReLU(negative_slope=0.01)\n",
       "    (4): Linear(in_features=40, out_features=40, bias=True)\n",
       "    (5): LeakyReLU(negative_slope=0.01)\n",
       "    (6): Linear(in_features=40, out_features=2, bias=True)\n",
       "  )\n",
       ")"
      ]
     },
     "execution_count": 7,
     "metadata": {},
     "output_type": "execute_result"
    }
   ],
   "source": [
    "fc = ARNN(6, [40,40,40], 1, prob=True)\n",
    "fc.load_state_dict(torch.load(\"load_ann.pt\"))\n",
    "fc.eval()"
   ]
  },
  {
   "cell_type": "code",
   "execution_count": 8,
   "metadata": {},
   "outputs": [
    {
     "data": {
      "text/plain": [
       "tensor([1.5585, 0.0600], grad_fn=<TransposeBackward0>)"
      ]
     },
     "execution_count": 8,
     "metadata": {},
     "output_type": "execute_result"
    }
   ],
   "source": [
    "fc.forward(torch.tensor([1.1,1.2,1.3,1.4,1.5,1.6]))"
   ]
  },
  {
   "cell_type": "code",
   "execution_count": 48,
   "metadata": {
    "scrolled": true
   },
   "outputs": [
    {
     "name": "stdout",
     "output_type": "stream",
     "text": [
      "epoch : 1, loss: 0.331\n",
      "epoch : 2, loss: 0.059\n",
      "epoch : 3, loss: 0.030\n",
      "epoch : 4, loss: 0.018\n",
      "epoch : 5, loss: 0.014\n",
      "epoch : 6, loss: 0.012\n",
      "epoch : 7, loss: 0.011\n",
      "epoch : 8, loss: 0.010\n",
      "epoch : 9, loss: 0.010\n",
      "epoch : 10, loss: 0.009\n",
      "epoch : 11, loss: 0.009\n",
      "epoch : 12, loss: 0.009\n",
      "epoch : 13, loss: 0.008\n",
      "epoch : 14, loss: 0.008\n",
      "epoch : 15, loss: 0.008\n",
      "epoch : 16, loss: 0.008\n",
      "epoch : 17, loss: 0.009\n",
      "epoch : 18, loss: 0.009\n",
      "epoch : 19, loss: 0.009\n",
      "epoch : 20, loss: 0.010\n",
      "epoch : 21, loss: 0.011\n",
      "epoch : 22, loss: 0.010\n",
      "epoch : 23, loss: 0.008\n",
      "epoch : 24, loss: 0.007\n",
      "epoch : 25, loss: 0.006\n",
      "epoch : 26, loss: 0.006\n",
      "epoch : 27, loss: 0.005\n",
      "epoch : 28, loss: 0.005\n",
      "epoch : 29, loss: 0.005\n",
      "epoch : 30, loss: 0.005\n",
      "epoch : 31, loss: 0.005\n",
      "epoch : 32, loss: 0.005\n",
      "epoch : 33, loss: 0.005\n",
      "epoch : 34, loss: 0.004\n",
      "epoch : 35, loss: 0.004\n",
      "epoch : 36, loss: 0.004\n",
      "epoch : 37, loss: 0.004\n",
      "epoch : 38, loss: 0.004\n",
      "epoch : 39, loss: 0.004\n",
      "epoch : 40, loss: 0.004\n",
      "epoch : 41, loss: 0.004\n",
      "epoch : 42, loss: 0.004\n",
      "epoch : 43, loss: 0.004\n",
      "epoch : 44, loss: 0.004\n",
      "epoch : 45, loss: 0.004\n",
      "epoch : 46, loss: 0.004\n",
      "epoch : 47, loss: 0.004\n",
      "epoch : 48, loss: 0.004\n",
      "epoch : 49, loss: 0.004\n",
      "epoch : 50, loss: 0.004\n",
      "epoch : 51, loss: 0.004\n",
      "epoch : 52, loss: 0.004\n",
      "epoch : 53, loss: 0.004\n",
      "epoch : 54, loss: 0.003\n",
      "epoch : 55, loss: 0.004\n",
      "epoch : 56, loss: 0.004\n",
      "epoch : 57, loss: 0.004\n",
      "epoch : 58, loss: 0.004\n",
      "epoch : 59, loss: 0.003\n",
      "epoch : 60, loss: 0.004\n",
      "epoch : 61, loss: 0.005\n",
      "epoch : 62, loss: 0.005\n",
      "epoch : 63, loss: 0.004\n",
      "epoch : 64, loss: 0.003\n",
      "epoch : 65, loss: 0.004\n",
      "epoch : 66, loss: 0.006\n",
      "epoch : 67, loss: 0.004\n",
      "epoch : 68, loss: 0.003\n",
      "epoch : 69, loss: 0.003\n",
      "epoch : 70, loss: 0.003\n",
      "epoch : 71, loss: 0.003\n",
      "epoch : 72, loss: 0.003\n",
      "epoch : 73, loss: 0.003\n",
      "epoch : 74, loss: 0.003\n",
      "epoch : 75, loss: 0.004\n",
      "epoch : 76, loss: 0.005\n",
      "epoch : 77, loss: 0.004\n",
      "epoch : 78, loss: 0.003\n",
      "epoch : 79, loss: 0.004\n",
      "epoch : 80, loss: 0.005\n",
      "Learning finished!\n",
      "column : 1, mse loss: 0.006\n",
      "column : 2, mse loss: 0.006\n",
      "overall mse loss: 0.006\n",
      "column : 1, mape loss: 0.062 pm 0.0541\n",
      "column : 2, mape loss: 0.055 pm 0.0500\n",
      "overall mape loss: 0.059\n"
     ]
    }
   ],
   "source": [
    "xcols = [0,1,2,3,4,5,-6,-5,-4,-3,-2,-1]\n",
    "ycols = [0,3]\n",
    "weights = [1,6]\n",
    "\n",
    "X_red = X[0,:,xcols]\n",
    "Y_red = Y[0,:,ycols]\n",
    "hidden_layers = [40,40,40]\n",
    "\n",
    "batch_size = 32\n",
    "input_size =  len(xcols)\n",
    "output_size = len(ycols)\n",
    "\n",
    "X_seq, Y_seq = X_red.float(), Y_red.float()\n",
    "X_train, Y_train, X_test, Y_test = train_test_split(X_seq, Y_seq,proportion_test=0.9)\n",
    "X_batches, Y_batches = batch(X_train, Y_train, batch_size)\n",
    "fc = ARNN(input_size, hidden_layers, output_size)\n",
    "train(fc, X_batches, Y_batches, num_epochs=80, learning_rate=0.01, weighting = weights)\n",
    "test(fc, X_test, Y_test,last_only=False,nn=True)"
   ]
  },
  {
   "cell_type": "code",
   "execution_count": 49,
   "metadata": {
    "scrolled": true
   },
   "outputs": [
    {
     "name": "stdout",
     "output_type": "stream",
     "text": [
      "epoch : 1, loss: 0.293\n",
      "epoch : 2, loss: 0.045\n",
      "epoch : 3, loss: 0.019\n",
      "epoch : 4, loss: 0.014\n",
      "epoch : 5, loss: 0.012\n",
      "epoch : 6, loss: 0.012\n",
      "epoch : 7, loss: 0.011\n",
      "epoch : 8, loss: 0.011\n",
      "epoch : 9, loss: 0.011\n",
      "epoch : 10, loss: 0.011\n",
      "epoch : 11, loss: 0.011\n",
      "epoch : 12, loss: 0.011\n",
      "epoch : 13, loss: 0.011\n",
      "epoch : 14, loss: 0.010\n",
      "epoch : 15, loss: 0.010\n",
      "epoch : 16, loss: 0.009\n",
      "epoch : 17, loss: 0.009\n",
      "epoch : 18, loss: 0.009\n",
      "epoch : 19, loss: 0.009\n",
      "epoch : 20, loss: 0.009\n",
      "epoch : 21, loss: 0.008\n",
      "epoch : 22, loss: 0.008\n",
      "epoch : 23, loss: 0.008\n",
      "epoch : 24, loss: 0.007\n",
      "epoch : 25, loss: 0.007\n",
      "epoch : 26, loss: 0.007\n",
      "epoch : 27, loss: 0.007\n",
      "epoch : 28, loss: 0.006\n",
      "epoch : 29, loss: 0.006\n",
      "epoch : 30, loss: 0.006\n",
      "epoch : 31, loss: 0.006\n",
      "epoch : 32, loss: 0.006\n",
      "epoch : 33, loss: 0.005\n",
      "epoch : 34, loss: 0.005\n",
      "epoch : 35, loss: 0.005\n",
      "epoch : 36, loss: 0.005\n",
      "epoch : 37, loss: 0.005\n",
      "epoch : 38, loss: 0.005\n",
      "epoch : 39, loss: 0.005\n",
      "epoch : 40, loss: 0.005\n",
      "epoch : 41, loss: 0.005\n",
      "epoch : 42, loss: 0.005\n",
      "epoch : 43, loss: 0.005\n",
      "epoch : 44, loss: 0.005\n",
      "epoch : 45, loss: 0.005\n",
      "epoch : 46, loss: 0.005\n",
      "epoch : 47, loss: 0.005\n",
      "epoch : 48, loss: 0.005\n",
      "epoch : 49, loss: 0.005\n",
      "epoch : 50, loss: 0.005\n",
      "epoch : 51, loss: 0.005\n",
      "epoch : 52, loss: 0.005\n",
      "epoch : 53, loss: 0.004\n",
      "epoch : 54, loss: 0.005\n",
      "epoch : 55, loss: 0.005\n",
      "epoch : 56, loss: 0.004\n",
      "epoch : 57, loss: 0.005\n",
      "epoch : 58, loss: 0.004\n",
      "epoch : 59, loss: 0.004\n",
      "epoch : 60, loss: 0.004\n",
      "epoch : 61, loss: 0.004\n",
      "epoch : 62, loss: 0.004\n",
      "epoch : 63, loss: 0.004\n",
      "epoch : 64, loss: 0.004\n",
      "epoch : 65, loss: 0.004\n",
      "epoch : 66, loss: 0.004\n",
      "epoch : 67, loss: 0.004\n",
      "epoch : 68, loss: 0.004\n",
      "epoch : 69, loss: 0.004\n",
      "epoch : 70, loss: 0.004\n",
      "epoch : 71, loss: 0.004\n",
      "epoch : 72, loss: 0.004\n",
      "epoch : 73, loss: 0.004\n",
      "epoch : 74, loss: 0.003\n",
      "epoch : 75, loss: 0.003\n",
      "epoch : 76, loss: 0.003\n",
      "epoch : 77, loss: 0.003\n",
      "epoch : 78, loss: 0.003\n",
      "epoch : 79, loss: 0.003\n",
      "epoch : 80, loss: 0.003\n",
      "Learning finished!\n",
      "column : 1, mse loss: 0.003\n",
      "column : 2, mse loss: 0.005\n",
      "overall mse loss: 0.004\n",
      "column : 1, mape loss: 0.039 pm 0.0331\n",
      "column : 2, mape loss: 0.054 pm 0.0504\n",
      "overall mape loss: 0.047\n"
     ]
    }
   ],
   "source": [
    "weights = [4,6]\n",
    "fc = ARNN(input_size, hidden_layers, output_size)\n",
    "train(fc, X_batches, Y_batches, num_epochs=80, learning_rate=0.01, weighting = weights)\n",
    "test(fc, X_test, Y_test,last_only=False,nn=True)"
   ]
  },
  {
   "cell_type": "code",
   "execution_count": 42,
   "metadata": {},
   "outputs": [
    {
     "data": {
      "text/plain": [
       "tensor([[0.0834, 0.2762, 0.1036],\n",
       "        [0.0518, 0.0260, 0.1306],\n",
       "        [0.0027, 0.0784, 0.2058],\n",
       "        ...,\n",
       "        [0.0084, 0.0871, 0.0910],\n",
       "        [0.1038, 0.0462, 0.0569],\n",
       "        [0.1127, 0.0169, 0.0731]], grad_fn=<DivBackward0>)"
      ]
     },
     "execution_count": 42,
     "metadata": {},
     "output_type": "execute_result"
    }
   ],
   "source": [
    "torch.abs(fc.forward(X_test)-Y_test) / Y_test"
   ]
  },
  {
   "cell_type": "code",
   "execution_count": 30,
   "metadata": {},
   "outputs": [
    {
     "data": {
      "text/plain": [
       "torch.Size([174, 12])"
      ]
     },
     "execution_count": 30,
     "metadata": {},
     "output_type": "execute_result"
    }
   ],
   "source": [
    "X_train.shape"
   ]
  },
  {
   "cell_type": "markdown",
   "metadata": {},
   "source": [
    "# Scratch Misc"
   ]
  },
  {
   "cell_type": "code",
   "execution_count": 5,
   "metadata": {},
   "outputs": [],
   "source": [
    "def create_inout_sequences(xs, ys, tw):\n",
    "    inout_seq = []\n",
    "    L = len(xs)\n",
    "    for i in range(L-tw):\n",
    "        train_seq = xs[i:i+tw,0].float()\n",
    "        train_label = ys[i+tw-1,:].float()\n",
    "        inout_seq.append((train_seq ,train_label))\n",
    "    return inout_seq"
   ]
  },
  {
   "cell_type": "code",
   "execution_count": 6,
   "metadata": {},
   "outputs": [],
   "source": [
    "cols = [0] #,-19,-18,-17,-16,-15,-14,-13,-12,-11,-10,-9,-8,-7,-6,-5,-4,-3,-2,-1]\n",
    "X_red = X[0,:,cols]\n",
    "Y_red = Y[0,:,[0]]\n",
    "\n",
    "inout_seq = create_inout_sequences(X_red,Y_red,24)"
   ]
  }
 ],
 "metadata": {
  "kernelspec": {
   "display_name": "Python 3",
   "language": "python",
   "name": "python3"
  },
  "language_info": {
   "codemirror_mode": {
    "name": "ipython",
    "version": 3
   },
   "file_extension": ".py",
   "mimetype": "text/x-python",
   "name": "python",
   "nbconvert_exporter": "python",
   "pygments_lexer": "ipython3",
   "version": "3.7.6"
  }
 },
 "nbformat": 4,
 "nbformat_minor": 2
}
